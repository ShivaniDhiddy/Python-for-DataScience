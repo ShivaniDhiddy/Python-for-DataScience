{
 "cells": [
  {
   "cell_type": "code",
   "execution_count": 1,
   "metadata": {},
   "outputs": [],
   "source": [
    "import pandas as pd\n",
    "import numpy as np\n",
    "import matplotlib.pyplot as plt\n",
    "%matplotlib inline\n",
    "import seaborn as sns\n",
    "from scipy import stats"
   ]
  },
  {
   "cell_type": "code",
   "execution_count": 2,
   "metadata": {},
   "outputs": [
    {
     "data": {
      "text/html": [
       "<div>\n",
       "<style scoped>\n",
       "    .dataframe tbody tr th:only-of-type {\n",
       "        vertical-align: middle;\n",
       "    }\n",
       "\n",
       "    .dataframe tbody tr th {\n",
       "        vertical-align: top;\n",
       "    }\n",
       "\n",
       "    .dataframe thead th {\n",
       "        text-align: right;\n",
       "    }\n",
       "</style>\n",
       "<table border=\"1\" class=\"dataframe\">\n",
       "  <thead>\n",
       "    <tr style=\"text-align: right;\">\n",
       "      <th></th>\n",
       "      <th>Unnamed: 0</th>\n",
       "      <th>Mobile_name</th>\n",
       "      <th>Colour</th>\n",
       "      <th>Price</th>\n",
       "      <th>Rating</th>\n",
       "      <th>No_of_Ratings</th>\n",
       "      <th>RAM</th>\n",
       "      <th>ROM</th>\n",
       "      <th>Screen_size</th>\n",
       "      <th>Rear_Camera</th>\n",
       "      <th>Front_camera</th>\n",
       "      <th>Battery(mAh)</th>\n",
       "      <th>Processor</th>\n",
       "      <th>Brand</th>\n",
       "    </tr>\n",
       "  </thead>\n",
       "  <tbody>\n",
       "    <tr>\n",
       "      <th>594</th>\n",
       "      <td>594</td>\n",
       "      <td>OPPO Reno2</td>\n",
       "      <td>Luminous Black</td>\n",
       "      <td>38990</td>\n",
       "      <td>4.5</td>\n",
       "      <td>1379.0</td>\n",
       "      <td>8.0</td>\n",
       "      <td>256</td>\n",
       "      <td>16.51</td>\n",
       "      <td>48</td>\n",
       "      <td>16MP</td>\n",
       "      <td>4000</td>\n",
       "      <td>Qualcomm Snapdragon 730G</td>\n",
       "      <td>Oppo</td>\n",
       "    </tr>\n",
       "    <tr>\n",
       "      <th>1328</th>\n",
       "      <td>1328</td>\n",
       "      <td>Samsung Galaxy M31</td>\n",
       "      <td>Space Black</td>\n",
       "      <td>17999</td>\n",
       "      <td>4.3</td>\n",
       "      <td>4114.0</td>\n",
       "      <td>6.0</td>\n",
       "      <td>128</td>\n",
       "      <td>16.26</td>\n",
       "      <td>64</td>\n",
       "      <td>32MP</td>\n",
       "      <td>6000</td>\n",
       "      <td>Samsung Exynos 9 Octa 9611</td>\n",
       "      <td>Samsung</td>\n",
       "    </tr>\n",
       "    <tr>\n",
       "      <th>163</th>\n",
       "      <td>163</td>\n",
       "      <td>Redmi K20 Pro</td>\n",
       "      <td>Carbon Black</td>\n",
       "      <td>26999</td>\n",
       "      <td>4.5</td>\n",
       "      <td>79038.0</td>\n",
       "      <td>6.0</td>\n",
       "      <td>128</td>\n",
       "      <td>16.23</td>\n",
       "      <td>48</td>\n",
       "      <td>20MP</td>\n",
       "      <td>4000</td>\n",
       "      <td>Qualcomm Snapdragon 855</td>\n",
       "      <td>Mi</td>\n",
       "    </tr>\n",
       "    <tr>\n",
       "      <th>85</th>\n",
       "      <td>85</td>\n",
       "      <td>Mi A1</td>\n",
       "      <td>Black</td>\n",
       "      <td>11800</td>\n",
       "      <td>4.4</td>\n",
       "      <td>469807.0</td>\n",
       "      <td>4.0</td>\n",
       "      <td>64</td>\n",
       "      <td>13.97</td>\n",
       "      <td>12</td>\n",
       "      <td>5MP</td>\n",
       "      <td>3080</td>\n",
       "      <td>Qualcomm Snapdragon 625 64 bit Octa Core 2GHz</td>\n",
       "      <td>Mi</td>\n",
       "    </tr>\n",
       "    <tr>\n",
       "      <th>1297</th>\n",
       "      <td>1297</td>\n",
       "      <td>Samsung M31s</td>\n",
       "      <td>Mirage Blue</td>\n",
       "      <td>23500</td>\n",
       "      <td>5.0</td>\n",
       "      <td>5.0</td>\n",
       "      <td>8.0</td>\n",
       "      <td>128</td>\n",
       "      <td>16.51</td>\n",
       "      <td>64</td>\n",
       "      <td>32MP</td>\n",
       "      <td>6000</td>\n",
       "      <td>Exynos 9611 octa core processor</td>\n",
       "      <td>Samsung</td>\n",
       "    </tr>\n",
       "    <tr>\n",
       "      <th>325</th>\n",
       "      <td>325</td>\n",
       "      <td>Realme C12</td>\n",
       "      <td>Power Silver</td>\n",
       "      <td>8999</td>\n",
       "      <td>4.4</td>\n",
       "      <td>154642.0</td>\n",
       "      <td>3.0</td>\n",
       "      <td>32</td>\n",
       "      <td>16.56</td>\n",
       "      <td>13</td>\n",
       "      <td>5MP</td>\n",
       "      <td>6000</td>\n",
       "      <td>Mediatek Helio G35</td>\n",
       "      <td>RealMe</td>\n",
       "    </tr>\n",
       "    <tr>\n",
       "      <th>964</th>\n",
       "      <td>964</td>\n",
       "      <td>Asus Zenfone Max Pro M1</td>\n",
       "      <td>Grey</td>\n",
       "      <td>7999</td>\n",
       "      <td>4.3</td>\n",
       "      <td>247.0</td>\n",
       "      <td>3.0</td>\n",
       "      <td>32</td>\n",
       "      <td>15.21</td>\n",
       "      <td>13</td>\n",
       "      <td>8MP</td>\n",
       "      <td>5000</td>\n",
       "      <td>Qualcomm Snapdragon 636 Octa Core</td>\n",
       "      <td>Asus</td>\n",
       "    </tr>\n",
       "    <tr>\n",
       "      <th>1332</th>\n",
       "      <td>1332</td>\n",
       "      <td>Samsung Galaxy M31</td>\n",
       "      <td>Ocean Blue</td>\n",
       "      <td>17887</td>\n",
       "      <td>4.3</td>\n",
       "      <td>4114.0</td>\n",
       "      <td>6.0</td>\n",
       "      <td>128</td>\n",
       "      <td>16.26</td>\n",
       "      <td>64</td>\n",
       "      <td>32MP</td>\n",
       "      <td>6000</td>\n",
       "      <td>Samsung Exynos 9 Octa 9611</td>\n",
       "      <td>Samsung</td>\n",
       "    </tr>\n",
       "    <tr>\n",
       "      <th>230</th>\n",
       "      <td>230</td>\n",
       "      <td>Redmi Y2</td>\n",
       "      <td>Rose Gold</td>\n",
       "      <td>8499</td>\n",
       "      <td>4.4</td>\n",
       "      <td>26613.0</td>\n",
       "      <td>4.0</td>\n",
       "      <td>64</td>\n",
       "      <td>15.21</td>\n",
       "      <td>12</td>\n",
       "      <td>16MP</td>\n",
       "      <td>3080</td>\n",
       "      <td>Qualcomm Snapdragon 625</td>\n",
       "      <td>Mi</td>\n",
       "    </tr>\n",
       "    <tr>\n",
       "      <th>449</th>\n",
       "      <td>449</td>\n",
       "      <td>Realme 3</td>\n",
       "      <td>Radiant Blue</td>\n",
       "      <td>8499</td>\n",
       "      <td>4.4</td>\n",
       "      <td>447697.0</td>\n",
       "      <td>3.0</td>\n",
       "      <td>32</td>\n",
       "      <td>15.80</td>\n",
       "      <td>13</td>\n",
       "      <td>13MP</td>\n",
       "      <td>4230</td>\n",
       "      <td>MediaTek Helio P70 Octa Core 2.1 GHz AI</td>\n",
       "      <td>RealMe</td>\n",
       "    </tr>\n",
       "  </tbody>\n",
       "</table>\n",
       "</div>"
      ],
      "text/plain": [
       "      Unnamed: 0               Mobile_name          Colour  Price  Rating  \\\n",
       "594          594               OPPO Reno2   Luminous Black  38990     4.5   \n",
       "1328        1328       Samsung Galaxy M31      Space Black  17999     4.3   \n",
       "163          163            Redmi K20 Pro     Carbon Black  26999     4.5   \n",
       "85            85                    Mi A1            Black  11800     4.4   \n",
       "1297        1297             Samsung M31s      Mirage Blue  23500     5.0   \n",
       "325          325               Realme C12     Power Silver   8999     4.4   \n",
       "964          964  Asus Zenfone Max Pro M1             Grey   7999     4.3   \n",
       "1332        1332       Samsung Galaxy M31       Ocean Blue  17887     4.3   \n",
       "230          230                 Redmi Y2        Rose Gold   8499     4.4   \n",
       "449          449                 Realme 3     Radiant Blue   8499     4.4   \n",
       "\n",
       "      No_of_Ratings  RAM  ROM  Screen_size  Rear_Camera Front_camera  \\\n",
       "594          1379.0  8.0  256        16.51           48         16MP   \n",
       "1328         4114.0  6.0  128        16.26           64         32MP   \n",
       "163         79038.0  6.0  128        16.23           48         20MP   \n",
       "85         469807.0  4.0   64        13.97           12          5MP   \n",
       "1297            5.0  8.0  128        16.51           64         32MP   \n",
       "325        154642.0  3.0   32        16.56           13          5MP   \n",
       "964           247.0  3.0   32        15.21           13          8MP   \n",
       "1332         4114.0  6.0  128        16.26           64         32MP   \n",
       "230         26613.0  4.0   64        15.21           12         16MP   \n",
       "449        447697.0  3.0   32        15.80           13         13MP   \n",
       "\n",
       "      Battery(mAh)                                       Processor    Brand  \n",
       "594           4000                       Qualcomm Snapdragon 730G      Oppo  \n",
       "1328          6000                     Samsung Exynos 9 Octa 9611   Samsung  \n",
       "163           4000                        Qualcomm Snapdragon 855        Mi  \n",
       "85            3080  Qualcomm Snapdragon 625 64 bit Octa Core 2GHz        Mi  \n",
       "1297          6000                Exynos 9611 octa core processor   Samsung  \n",
       "325           6000                             Mediatek Helio G35    RealMe  \n",
       "964           5000              Qualcomm Snapdragon 636 Octa Core      Asus  \n",
       "1332          6000                     Samsung Exynos 9 Octa 9611   Samsung  \n",
       "230           3080                        Qualcomm Snapdragon 625        Mi  \n",
       "449           4230        MediaTek Helio P70 Octa Core 2.1 GHz AI    RealMe  "
      ]
     },
     "execution_count": 2,
     "metadata": {},
     "output_type": "execute_result"
    }
   ],
   "source": [
    "df=pd.read_csv(\"FlipkartWSFinal.csv\")\n",
    "df.sample(10)"
   ]
  },
  {
   "cell_type": "code",
   "execution_count": 3,
   "metadata": {},
   "outputs": [],
   "source": [
    "dfc=df.copy()"
   ]
  },
  {
   "cell_type": "code",
   "execution_count": 4,
   "metadata": {},
   "outputs": [
    {
     "data": {
      "text/plain": [
       "(1453, 14)"
      ]
     },
     "execution_count": 4,
     "metadata": {},
     "output_type": "execute_result"
    }
   ],
   "source": [
    "dfc.shape"
   ]
  },
  {
   "cell_type": "markdown",
   "metadata": {},
   "source": [
    "### Dropping columns"
   ]
  },
  {
   "cell_type": "code",
   "execution_count": 5,
   "metadata": {},
   "outputs": [],
   "source": [
    "dfc.drop([\"Unnamed: 0\"],axis=1,inplace=True)"
   ]
  },
  {
   "cell_type": "code",
   "execution_count": 6,
   "metadata": {},
   "outputs": [
    {
     "data": {
      "text/html": [
       "<div>\n",
       "<style scoped>\n",
       "    .dataframe tbody tr th:only-of-type {\n",
       "        vertical-align: middle;\n",
       "    }\n",
       "\n",
       "    .dataframe tbody tr th {\n",
       "        vertical-align: top;\n",
       "    }\n",
       "\n",
       "    .dataframe thead th {\n",
       "        text-align: right;\n",
       "    }\n",
       "</style>\n",
       "<table border=\"1\" class=\"dataframe\">\n",
       "  <thead>\n",
       "    <tr style=\"text-align: right;\">\n",
       "      <th></th>\n",
       "      <th>Mobile_name</th>\n",
       "      <th>Colour</th>\n",
       "      <th>Price</th>\n",
       "      <th>Rating</th>\n",
       "      <th>No_of_Ratings</th>\n",
       "      <th>RAM</th>\n",
       "      <th>ROM</th>\n",
       "      <th>Screen_size</th>\n",
       "      <th>Rear_Camera</th>\n",
       "      <th>Front_camera</th>\n",
       "      <th>Battery(mAh)</th>\n",
       "      <th>Processor</th>\n",
       "      <th>Brand</th>\n",
       "    </tr>\n",
       "  </thead>\n",
       "  <tbody>\n",
       "    <tr>\n",
       "      <th>844</th>\n",
       "      <td>Vivo Y20</td>\n",
       "      <td>Dawn White</td>\n",
       "      <td>12990</td>\n",
       "      <td>4.4</td>\n",
       "      <td>5806.0</td>\n",
       "      <td>4.0</td>\n",
       "      <td>64</td>\n",
       "      <td>16.54</td>\n",
       "      <td>13</td>\n",
       "      <td>8MP</td>\n",
       "      <td>5000</td>\n",
       "      <td>Qualcomm Snapdragon 460</td>\n",
       "      <td>Vivo</td>\n",
       "    </tr>\n",
       "    <tr>\n",
       "      <th>920</th>\n",
       "      <td>Asus Zenfone 4 Selfie Pro</td>\n",
       "      <td>Black</td>\n",
       "      <td>25999</td>\n",
       "      <td>4.0</td>\n",
       "      <td>532.0</td>\n",
       "      <td>4.0</td>\n",
       "      <td>64</td>\n",
       "      <td>13.97</td>\n",
       "      <td>16</td>\n",
       "      <td>24MP</td>\n",
       "      <td>3000</td>\n",
       "      <td>Octa Core Qualcomm Snapdragon 625</td>\n",
       "      <td>Asus</td>\n",
       "    </tr>\n",
       "    <tr>\n",
       "      <th>951</th>\n",
       "      <td>Asus Zenfone 2 ZE551ML</td>\n",
       "      <td>Red</td>\n",
       "      <td>19999</td>\n",
       "      <td>3.9</td>\n",
       "      <td>12526.0</td>\n",
       "      <td>4.0</td>\n",
       "      <td>32</td>\n",
       "      <td>13.97</td>\n",
       "      <td>13</td>\n",
       "      <td>5MP</td>\n",
       "      <td>3000</td>\n",
       "      <td>Intel Atom Z3580</td>\n",
       "      <td>Asus</td>\n",
       "    </tr>\n",
       "    <tr>\n",
       "      <th>903</th>\n",
       "      <td>Asus Zenfone 4 Selfie</td>\n",
       "      <td>Gold</td>\n",
       "      <td>10999</td>\n",
       "      <td>4.1</td>\n",
       "      <td>20779.0</td>\n",
       "      <td>3.0</td>\n",
       "      <td>32</td>\n",
       "      <td>13.97</td>\n",
       "      <td>13</td>\n",
       "      <td>13MP</td>\n",
       "      <td>3000</td>\n",
       "      <td>Octa Core Qualcomm Snapdragon 430</td>\n",
       "      <td>Asus</td>\n",
       "    </tr>\n",
       "    <tr>\n",
       "      <th>1102</th>\n",
       "      <td>Honor 9N</td>\n",
       "      <td>Sapphire Blue</td>\n",
       "      <td>19999</td>\n",
       "      <td>4.3</td>\n",
       "      <td>227.0</td>\n",
       "      <td>4.0</td>\n",
       "      <td>128</td>\n",
       "      <td>14.83</td>\n",
       "      <td>13</td>\n",
       "      <td>16MP</td>\n",
       "      <td>3000</td>\n",
       "      <td>Kirin 659 Octa Core</td>\n",
       "      <td>Honor</td>\n",
       "    </tr>\n",
       "    <tr>\n",
       "      <th>216</th>\n",
       "      <td>Redmi 8A</td>\n",
       "      <td>Midnight Black</td>\n",
       "      <td>7499</td>\n",
       "      <td>4.3</td>\n",
       "      <td>131616.0</td>\n",
       "      <td>3.0</td>\n",
       "      <td>32</td>\n",
       "      <td>15.80</td>\n",
       "      <td>12</td>\n",
       "      <td>8MP</td>\n",
       "      <td>5000</td>\n",
       "      <td>Qualcomm Snapdragon 439</td>\n",
       "      <td>Mi</td>\n",
       "    </tr>\n",
       "    <tr>\n",
       "      <th>1434</th>\n",
       "      <td>Samsung Galaxy J2 2018</td>\n",
       "      <td>Pink</td>\n",
       "      <td>6799</td>\n",
       "      <td>4.3</td>\n",
       "      <td>7546.0</td>\n",
       "      <td>2.0</td>\n",
       "      <td>16</td>\n",
       "      <td>12.70</td>\n",
       "      <td>8</td>\n",
       "      <td>5MP</td>\n",
       "      <td>2600</td>\n",
       "      <td>Snapdragon 425</td>\n",
       "      <td>Samsung</td>\n",
       "    </tr>\n",
       "    <tr>\n",
       "      <th>879</th>\n",
       "      <td>Vivo Y20i</td>\n",
       "      <td>Dawn White</td>\n",
       "      <td>11490</td>\n",
       "      <td>4.3</td>\n",
       "      <td>2995.0</td>\n",
       "      <td>3.0</td>\n",
       "      <td>64</td>\n",
       "      <td>16.54</td>\n",
       "      <td>13</td>\n",
       "      <td>8MP</td>\n",
       "      <td>5000</td>\n",
       "      <td>Qualcomm Snapdragon 460</td>\n",
       "      <td>Vivo</td>\n",
       "    </tr>\n",
       "    <tr>\n",
       "      <th>971</th>\n",
       "      <td>Asus Zenfone Selfie</td>\n",
       "      <td>White</td>\n",
       "      <td>16999</td>\n",
       "      <td>4.0</td>\n",
       "      <td>26784.0</td>\n",
       "      <td>3.0</td>\n",
       "      <td>32</td>\n",
       "      <td>13.97</td>\n",
       "      <td>13</td>\n",
       "      <td>13MP</td>\n",
       "      <td>3000</td>\n",
       "      <td>Qualcomm Snapdragon 615 MSM8939</td>\n",
       "      <td>Asus</td>\n",
       "    </tr>\n",
       "    <tr>\n",
       "      <th>1439</th>\n",
       "      <td>Samsung Galaxy J2 Core</td>\n",
       "      <td>Blue</td>\n",
       "      <td>6190</td>\n",
       "      <td>4.2</td>\n",
       "      <td>10232.0</td>\n",
       "      <td>1.0</td>\n",
       "      <td>8</td>\n",
       "      <td>12.70</td>\n",
       "      <td>8</td>\n",
       "      <td>5MP</td>\n",
       "      <td>2600</td>\n",
       "      <td>Exynos 7570</td>\n",
       "      <td>Samsung</td>\n",
       "    </tr>\n",
       "  </tbody>\n",
       "</table>\n",
       "</div>"
      ],
      "text/plain": [
       "                     Mobile_name          Colour  Price  Rating  \\\n",
       "844                    Vivo Y20       Dawn White  12990     4.4   \n",
       "920   Asus Zenfone 4 Selfie Pro            Black  25999     4.0   \n",
       "951      Asus Zenfone 2 ZE551ML              Red  19999     3.9   \n",
       "903       Asus Zenfone 4 Selfie             Gold  10999     4.1   \n",
       "1102                   Honor 9N    Sapphire Blue  19999     4.3   \n",
       "216                    Redmi 8A   Midnight Black   7499     4.3   \n",
       "1434     Samsung Galaxy J2 2018             Pink   6799     4.3   \n",
       "879                   Vivo Y20i       Dawn White  11490     4.3   \n",
       "971         Asus Zenfone Selfie            White  16999     4.0   \n",
       "1439     Samsung Galaxy J2 Core             Blue   6190     4.2   \n",
       "\n",
       "      No_of_Ratings  RAM  ROM  Screen_size  Rear_Camera Front_camera  \\\n",
       "844          5806.0  4.0   64        16.54           13          8MP   \n",
       "920           532.0  4.0   64        13.97           16         24MP   \n",
       "951         12526.0  4.0   32        13.97           13          5MP   \n",
       "903         20779.0  3.0   32        13.97           13         13MP   \n",
       "1102          227.0  4.0  128        14.83           13         16MP   \n",
       "216        131616.0  3.0   32        15.80           12          8MP   \n",
       "1434         7546.0  2.0   16        12.70            8          5MP   \n",
       "879          2995.0  3.0   64        16.54           13          8MP   \n",
       "971         26784.0  3.0   32        13.97           13         13MP   \n",
       "1439        10232.0  1.0    8        12.70            8          5MP   \n",
       "\n",
       "      Battery(mAh)                           Processor    Brand  \n",
       "844           5000            Qualcomm Snapdragon 460      Vivo  \n",
       "920           3000  Octa Core Qualcomm Snapdragon 625      Asus  \n",
       "951           3000                   Intel Atom Z3580      Asus  \n",
       "903           3000  Octa Core Qualcomm Snapdragon 430      Asus  \n",
       "1102          3000                Kirin 659 Octa Core     Honor  \n",
       "216           5000            Qualcomm Snapdragon 439        Mi  \n",
       "1434          2600                     Snapdragon 425   Samsung  \n",
       "879           5000            Qualcomm Snapdragon 460      Vivo  \n",
       "971           3000    Qualcomm Snapdragon 615 MSM8939      Asus  \n",
       "1439          2600                        Exynos 7570   Samsung  "
      ]
     },
     "execution_count": 6,
     "metadata": {},
     "output_type": "execute_result"
    }
   ],
   "source": [
    "dfc.sample(10)"
   ]
  },
  {
   "cell_type": "code",
   "execution_count": 7,
   "metadata": {},
   "outputs": [
    {
     "data": {
      "text/plain": [
       "Mobile_name       object\n",
       "Colour            object\n",
       "Price              int64\n",
       "Rating           float64\n",
       "No_of_Ratings    float64\n",
       "RAM              float64\n",
       "ROM                int64\n",
       "Screen_size      float64\n",
       "Rear_Camera        int64\n",
       "Front_camera      object\n",
       "Battery(mAh)       int64\n",
       "Processor         object\n",
       "Brand             object\n",
       "dtype: object"
      ]
     },
     "execution_count": 7,
     "metadata": {},
     "output_type": "execute_result"
    }
   ],
   "source": [
    "dfc.dtypes"
   ]
  },
  {
   "cell_type": "markdown",
   "metadata": {},
   "source": [
    "### Renaming Column names"
   ]
  },
  {
   "cell_type": "code",
   "execution_count": 8,
   "metadata": {},
   "outputs": [],
   "source": [
    "dfc.rename(columns={'Screen_size':'Screen_size(cm)'},inplace=True)"
   ]
  },
  {
   "cell_type": "code",
   "execution_count": 9,
   "metadata": {},
   "outputs": [
    {
     "data": {
      "text/plain": [
       "Index(['Mobile_name', 'Colour', 'Price', 'Rating', 'No_of_Ratings', 'RAM',\n",
       "       'ROM', 'Screen_size(cm)', 'Rear_Camera', 'Front_camera', 'Battery(mAh)',\n",
       "       'Processor', 'Brand'],\n",
       "      dtype='object')"
      ]
     },
     "execution_count": 9,
     "metadata": {},
     "output_type": "execute_result"
    }
   ],
   "source": [
    "dfc.columns"
   ]
  },
  {
   "cell_type": "code",
   "execution_count": 10,
   "metadata": {},
   "outputs": [],
   "source": [
    "cam_f=[]\n",
    "for i in dfc[\"Front_camera\"]:\n",
    "    if \"MP\" in str(i):\n",
    "        a=i.strip(\"MP\")\n",
    "        cam_f.append(int(a))\n",
    "    else:\n",
    "        cam_f.append(np.nan)"
   ]
  },
  {
   "cell_type": "code",
   "execution_count": 11,
   "metadata": {},
   "outputs": [],
   "source": [
    "dfc[\"Front_camera\"]=cam_f"
   ]
  },
  {
   "cell_type": "code",
   "execution_count": 12,
   "metadata": {},
   "outputs": [
    {
     "data": {
      "text/plain": [
       "Mobile_name         object\n",
       "Colour              object\n",
       "Price                int64\n",
       "Rating             float64\n",
       "No_of_Ratings      float64\n",
       "RAM                float64\n",
       "ROM                  int64\n",
       "Screen_size(cm)    float64\n",
       "Rear_Camera          int64\n",
       "Front_camera       float64\n",
       "Battery(mAh)         int64\n",
       "Processor           object\n",
       "Brand               object\n",
       "dtype: object"
      ]
     },
     "execution_count": 12,
     "metadata": {},
     "output_type": "execute_result"
    }
   ],
   "source": [
    "dfc.dtypes"
   ]
  },
  {
   "cell_type": "code",
   "execution_count": 13,
   "metadata": {},
   "outputs": [],
   "source": [
    "dfc.drop_duplicates(inplace=True,ignore_index=True)"
   ]
  },
  {
   "cell_type": "markdown",
   "metadata": {},
   "source": [
    "### Missing Value Treatment "
   ]
  },
  {
   "cell_type": "markdown",
   "metadata": {},
   "source": [
    "## Checking for missing values"
   ]
  },
  {
   "cell_type": "code",
   "execution_count": 14,
   "metadata": {},
   "outputs": [
    {
     "data": {
      "text/plain": [
       "Mobile_name        0.00\n",
       "Colour             0.24\n",
       "Price              0.00\n",
       "Rating             0.94\n",
       "No_of_Ratings      0.94\n",
       "RAM                0.00\n",
       "ROM                0.00\n",
       "Screen_size(cm)    0.00\n",
       "Rear_Camera        0.00\n",
       "Front_camera       7.06\n",
       "Battery(mAh)       0.00\n",
       "Processor          8.31\n",
       "Brand              0.00\n",
       "dtype: float64"
      ]
     },
     "execution_count": 14,
     "metadata": {},
     "output_type": "execute_result"
    }
   ],
   "source": [
    "#in percentage form checking missing values for each column\n",
    "mv=round(100*(dfc.isnull().sum()/len(dfc.index)),2)\n",
    "mv"
   ]
  },
  {
   "cell_type": "code",
   "execution_count": 15,
   "metadata": {},
   "outputs": [
    {
     "data": {
      "text/plain": [
       "Mobile_name          0\n",
       "Colour               3\n",
       "Price                0\n",
       "Rating              12\n",
       "No_of_Ratings       12\n",
       "RAM                  0\n",
       "ROM                  0\n",
       "Screen_size(cm)      0\n",
       "Rear_Camera          0\n",
       "Front_camera        90\n",
       "Battery(mAh)         0\n",
       "Processor          106\n",
       "Brand                0\n",
       "dtype: int64"
      ]
     },
     "execution_count": 15,
     "metadata": {},
     "output_type": "execute_result"
    }
   ],
   "source": [
    "#count if missing values in each feature\n",
    "nv=dfc.isnull().sum()\n",
    "nv"
   ]
  },
  {
   "cell_type": "markdown",
   "metadata": {},
   "source": [
    "### Visualising the missing values "
   ]
  },
  {
   "cell_type": "code",
   "execution_count": 16,
   "metadata": {},
   "outputs": [],
   "source": [
    "import missingno as msno"
   ]
  },
  {
   "cell_type": "code",
   "execution_count": 17,
   "metadata": {},
   "outputs": [
    {
     "data": {
      "text/plain": [
       "<matplotlib.axes._subplots.AxesSubplot at 0x2109317c580>"
      ]
     },
     "execution_count": 17,
     "metadata": {},
     "output_type": "execute_result"
    },
    {
     "data": {
      "image/png": "[encoded data removed]",
      "text/plain": [
       "<Figure size 1728x720 with 3 Axes>"
      ]
     },
     "metadata": {
      "needs_background": "light"
     },
     "output_type": "display_data"
    }
   ],
   "source": [
    "msno.bar(dfc,color='turquoise')"
   ]
  },
  {
   "cell_type": "code",
   "execution_count": 18,
   "metadata": {},
   "outputs": [
    {
     "data": {
      "image/png": "[encoded data removed]",
      "text/plain": [
       "<Figure size 1008x720 with 1 Axes>"
      ]
     },
     "metadata": {
      "needs_background": "light"
     },
     "output_type": "display_data"
    }
   ],
   "source": [
    "# plot missing values\n",
    "plt.figure(figsize=(14,10))\n",
    "sns.heatmap(dfc.isnull(),yticklabels=False, cbar = False, cmap='viridis');"
   ]
  },
  {
   "cell_type": "markdown",
   "metadata": {},
   "source": [
    "- we can see that mostly the Nan values exist in Front_Camera and Processor, but very few Nan/Missing values exist in Colour, Ratings and No_of_Ratings, so we can delete the rows with Nan value in **Colour, Ratings and No_of_Ratings**"
   ]
  },
  {
   "cell_type": "code",
   "execution_count": 19,
   "metadata": {},
   "outputs": [],
   "source": [
    "dfc.dropna(subset=[\"Colour\",\"Rating\",'No_of_Ratings'],inplace=True)"
   ]
  },
  {
   "cell_type": "code",
   "execution_count": 20,
   "metadata": {},
   "outputs": [
    {
     "data": {
      "text/html": [
       "<div>\n",
       "<style scoped>\n",
       "    .dataframe tbody tr th:only-of-type {\n",
       "        vertical-align: middle;\n",
       "    }\n",
       "\n",
       "    .dataframe tbody tr th {\n",
       "        vertical-align: top;\n",
       "    }\n",
       "\n",
       "    .dataframe thead th {\n",
       "        text-align: right;\n",
       "    }\n",
       "</style>\n",
       "<table border=\"1\" class=\"dataframe\">\n",
       "  <thead>\n",
       "    <tr style=\"text-align: right;\">\n",
       "      <th></th>\n",
       "      <th>Mobile_name</th>\n",
       "      <th>Colour</th>\n",
       "      <th>Price</th>\n",
       "      <th>Rating</th>\n",
       "      <th>No_of_Ratings</th>\n",
       "      <th>RAM</th>\n",
       "      <th>ROM</th>\n",
       "      <th>Screen_size(cm)</th>\n",
       "      <th>Rear_Camera</th>\n",
       "      <th>Front_camera</th>\n",
       "      <th>Battery(mAh)</th>\n",
       "      <th>Processor</th>\n",
       "      <th>Brand</th>\n",
       "    </tr>\n",
       "  </thead>\n",
       "  <tbody>\n",
       "    <tr>\n",
       "      <th>0</th>\n",
       "      <td>Redmi 8A Dual</td>\n",
       "      <td>Sea Blue</td>\n",
       "      <td>6999</td>\n",
       "      <td>4.3</td>\n",
       "      <td>16539.0</td>\n",
       "      <td>2.0</td>\n",
       "      <td>32</td>\n",
       "      <td>15.80</td>\n",
       "      <td>13</td>\n",
       "      <td>8.0</td>\n",
       "      <td>5000</td>\n",
       "      <td>Qualcomm Snapdragon 439</td>\n",
       "      <td>Mi</td>\n",
       "    </tr>\n",
       "    <tr>\n",
       "      <th>1</th>\n",
       "      <td>Redmi 8A Dual</td>\n",
       "      <td>Midnight Grey</td>\n",
       "      <td>6999</td>\n",
       "      <td>4.3</td>\n",
       "      <td>16539.0</td>\n",
       "      <td>2.0</td>\n",
       "      <td>32</td>\n",
       "      <td>15.80</td>\n",
       "      <td>13</td>\n",
       "      <td>8.0</td>\n",
       "      <td>5000</td>\n",
       "      <td>Qualcomm Snapdragon 439</td>\n",
       "      <td>Mi</td>\n",
       "    </tr>\n",
       "    <tr>\n",
       "      <th>2</th>\n",
       "      <td>Redmi 8A Dual</td>\n",
       "      <td>Sky White</td>\n",
       "      <td>6999</td>\n",
       "      <td>4.3</td>\n",
       "      <td>16539.0</td>\n",
       "      <td>2.0</td>\n",
       "      <td>32</td>\n",
       "      <td>15.80</td>\n",
       "      <td>13</td>\n",
       "      <td>8.0</td>\n",
       "      <td>5000</td>\n",
       "      <td>Qualcomm Snapdragon 439</td>\n",
       "      <td>Mi</td>\n",
       "    </tr>\n",
       "    <tr>\n",
       "      <th>3</th>\n",
       "      <td>Redmi 9A</td>\n",
       "      <td>SeaBlue</td>\n",
       "      <td>7038</td>\n",
       "      <td>4.3</td>\n",
       "      <td>3073.0</td>\n",
       "      <td>2.0</td>\n",
       "      <td>32</td>\n",
       "      <td>16.59</td>\n",
       "      <td>13</td>\n",
       "      <td>NaN</td>\n",
       "      <td>5000</td>\n",
       "      <td>NaN</td>\n",
       "      <td>Mi</td>\n",
       "    </tr>\n",
       "    <tr>\n",
       "      <th>4</th>\n",
       "      <td>Redmi 9A</td>\n",
       "      <td>Nature Green</td>\n",
       "      <td>7249</td>\n",
       "      <td>4.3</td>\n",
       "      <td>3073.0</td>\n",
       "      <td>2.0</td>\n",
       "      <td>32</td>\n",
       "      <td>16.59</td>\n",
       "      <td>13</td>\n",
       "      <td>NaN</td>\n",
       "      <td>5000</td>\n",
       "      <td>NaN</td>\n",
       "      <td>Mi</td>\n",
       "    </tr>\n",
       "    <tr>\n",
       "      <th>...</th>\n",
       "      <td>...</td>\n",
       "      <td>...</td>\n",
       "      <td>...</td>\n",
       "      <td>...</td>\n",
       "      <td>...</td>\n",
       "      <td>...</td>\n",
       "      <td>...</td>\n",
       "      <td>...</td>\n",
       "      <td>...</td>\n",
       "      <td>...</td>\n",
       "      <td>...</td>\n",
       "      <td>...</td>\n",
       "      <td>...</td>\n",
       "    </tr>\n",
       "    <tr>\n",
       "      <th>1270</th>\n",
       "      <td>iQOO 3</td>\n",
       "      <td>Quantum Silver</td>\n",
       "      <td>29990</td>\n",
       "      <td>4.5</td>\n",
       "      <td>10335.0</td>\n",
       "      <td>8.0</td>\n",
       "      <td>128</td>\n",
       "      <td>16.36</td>\n",
       "      <td>48</td>\n",
       "      <td>16.0</td>\n",
       "      <td>4440</td>\n",
       "      <td>Qualcomm Snapdragon 865</td>\n",
       "      <td>IQOO</td>\n",
       "    </tr>\n",
       "    <tr>\n",
       "      <th>1271</th>\n",
       "      <td>iQOO 3</td>\n",
       "      <td>Tornado Black</td>\n",
       "      <td>32990</td>\n",
       "      <td>4.5</td>\n",
       "      <td>10335.0</td>\n",
       "      <td>8.0</td>\n",
       "      <td>256</td>\n",
       "      <td>16.36</td>\n",
       "      <td>48</td>\n",
       "      <td>16.0</td>\n",
       "      <td>4440</td>\n",
       "      <td>Qualcomm Snapdragon 865</td>\n",
       "      <td>IQOO</td>\n",
       "    </tr>\n",
       "    <tr>\n",
       "      <th>1272</th>\n",
       "      <td>iQOO 3</td>\n",
       "      <td>Tornado Black</td>\n",
       "      <td>44990</td>\n",
       "      <td>4.4</td>\n",
       "      <td>1436.0</td>\n",
       "      <td>12.0</td>\n",
       "      <td>256</td>\n",
       "      <td>16.36</td>\n",
       "      <td>48</td>\n",
       "      <td>16.0</td>\n",
       "      <td>4440</td>\n",
       "      <td>Qualcomm Snapdragon 865</td>\n",
       "      <td>IQOO</td>\n",
       "    </tr>\n",
       "    <tr>\n",
       "      <th>1273</th>\n",
       "      <td>iQOO 3</td>\n",
       "      <td>Volcano Orange</td>\n",
       "      <td>32990</td>\n",
       "      <td>4.5</td>\n",
       "      <td>10335.0</td>\n",
       "      <td>8.0</td>\n",
       "      <td>256</td>\n",
       "      <td>16.36</td>\n",
       "      <td>48</td>\n",
       "      <td>16.0</td>\n",
       "      <td>4440</td>\n",
       "      <td>Qualcomm Snapdragon 865</td>\n",
       "      <td>IQOO</td>\n",
       "    </tr>\n",
       "    <tr>\n",
       "      <th>1274</th>\n",
       "      <td>iQOO 3</td>\n",
       "      <td>Volcano Orange</td>\n",
       "      <td>29990</td>\n",
       "      <td>4.5</td>\n",
       "      <td>10335.0</td>\n",
       "      <td>8.0</td>\n",
       "      <td>128</td>\n",
       "      <td>16.36</td>\n",
       "      <td>48</td>\n",
       "      <td>16.0</td>\n",
       "      <td>4440</td>\n",
       "      <td>Qualcomm Snapdragon 865</td>\n",
       "      <td>IQOO</td>\n",
       "    </tr>\n",
       "  </tbody>\n",
       "</table>\n",
       "<p>1260 rows × 13 columns</p>\n",
       "</div>"
      ],
      "text/plain": [
       "         Mobile_name          Colour  Price  Rating  No_of_Ratings   RAM  ROM  \\\n",
       "0     Redmi 8A Dual         Sea Blue   6999     4.3        16539.0   2.0   32   \n",
       "1     Redmi 8A Dual    Midnight Grey   6999     4.3        16539.0   2.0   32   \n",
       "2     Redmi 8A Dual        Sky White   6999     4.3        16539.0   2.0   32   \n",
       "3          Redmi 9A          SeaBlue   7038     4.3         3073.0   2.0   32   \n",
       "4          Redmi 9A     Nature Green   7249     4.3         3073.0   2.0   32   \n",
       "...              ...             ...    ...     ...            ...   ...  ...   \n",
       "1270         iQOO 3   Quantum Silver  29990     4.5        10335.0   8.0  128   \n",
       "1271         iQOO 3    Tornado Black  32990     4.5        10335.0   8.0  256   \n",
       "1272         iQOO 3    Tornado Black  44990     4.4         1436.0  12.0  256   \n",
       "1273         iQOO 3   Volcano Orange  32990     4.5        10335.0   8.0  256   \n",
       "1274         iQOO 3   Volcano Orange  29990     4.5        10335.0   8.0  128   \n",
       "\n",
       "      Screen_size(cm)  Rear_Camera  Front_camera  Battery(mAh)  \\\n",
       "0               15.80           13           8.0          5000   \n",
       "1               15.80           13           8.0          5000   \n",
       "2               15.80           13           8.0          5000   \n",
       "3               16.59           13           NaN          5000   \n",
       "4               16.59           13           NaN          5000   \n",
       "...               ...          ...           ...           ...   \n",
       "1270            16.36           48          16.0          4440   \n",
       "1271            16.36           48          16.0          4440   \n",
       "1272            16.36           48          16.0          4440   \n",
       "1273            16.36           48          16.0          4440   \n",
       "1274            16.36           48          16.0          4440   \n",
       "\n",
       "                     Processor Brand  \n",
       "0     Qualcomm Snapdragon 439     Mi  \n",
       "1     Qualcomm Snapdragon 439     Mi  \n",
       "2     Qualcomm Snapdragon 439     Mi  \n",
       "3                          NaN    Mi  \n",
       "4                          NaN    Mi  \n",
       "...                        ...   ...  \n",
       "1270  Qualcomm Snapdragon 865   IQOO  \n",
       "1271  Qualcomm Snapdragon 865   IQOO  \n",
       "1272  Qualcomm Snapdragon 865   IQOO  \n",
       "1273  Qualcomm Snapdragon 865   IQOO  \n",
       "1274  Qualcomm Snapdragon 865   IQOO  \n",
       "\n",
       "[1260 rows x 13 columns]"
      ]
     },
     "execution_count": 20,
     "metadata": {},
     "output_type": "execute_result"
    }
   ],
   "source": [
    "dfc"
   ]
  },
  {
   "cell_type": "markdown",
   "metadata": {},
   "source": [
    "- earlier we had 1275 rows in the dataset ,after deleting the rows with missing values in following columns **Colour, Ratings and No_of_Ratings** we are left with **1260** rows"
   ]
  },
  {
   "cell_type": "code",
   "execution_count": 21,
   "metadata": {},
   "outputs": [
    {
     "data": {
      "text/plain": [
       "Mobile_name         0\n",
       "Colour              0\n",
       "Price               0\n",
       "Rating              0\n",
       "No_of_Ratings       0\n",
       "RAM                 0\n",
       "ROM                 0\n",
       "Screen_size(cm)     0\n",
       "Rear_Camera         0\n",
       "Front_camera       83\n",
       "Battery(mAh)        0\n",
       "Processor          99\n",
       "Brand               0\n",
       "dtype: int64"
      ]
     },
     "execution_count": 21,
     "metadata": {},
     "output_type": "execute_result"
    }
   ],
   "source": [
    "dfc.isnull().sum()"
   ]
  },
  {
   "cell_type": "markdown",
   "metadata": {},
   "source": [
    "- we need to impute \"Front_camera and Processor\"\n",
    "- before that let's see the patterns and how they are differing"
   ]
  },
  {
   "cell_type": "markdown",
   "metadata": {},
   "source": [
    "### Front_Camera"
   ]
  },
  {
   "cell_type": "code",
   "execution_count": 22,
   "metadata": {},
   "outputs": [
    {
     "data": {
      "text/plain": [
       "5.0     271\n",
       "8.0     254\n",
       "16.0    213\n",
       "32.0    110\n",
       "13.0    108\n",
       "20.0     85\n",
       "2.0      41\n",
       "3.0      21\n",
       "24.0     21\n",
       "10.0     19\n",
       "25.0     12\n",
       "48.0      9\n",
       "44.0      7\n",
       "4.0       3\n",
       "6.0       1\n",
       "40.0      1\n",
       "9.0       1\n",
       "Name: Front_camera, dtype: int64"
      ]
     },
     "execution_count": 22,
     "metadata": {},
     "output_type": "execute_result"
    }
   ],
   "source": [
    "dfc[\"Front_camera\"].value_counts()"
   ]
  },
  {
   "cell_type": "code",
   "execution_count": 23,
   "metadata": {},
   "outputs": [
    {
     "data": {
      "text/plain": [
       "<matplotlib.axes._subplots.AxesSubplot at 0x21093a21b20>"
      ]
     },
     "execution_count": 23,
     "metadata": {},
     "output_type": "execute_result"
    },
    {
     "data": {
      "image/png": "[encoded data removed]",
      "text/plain": [
       "<Figure size 432x288 with 1 Axes>"
      ]
     },
     "metadata": {
      "needs_background": "light"
     },
     "output_type": "display_data"
    }
   ],
   "source": [
    "sns.boxplot(dfc[\"Front_camera\"])"
   ]
  },
  {
   "cell_type": "markdown",
   "metadata": {},
   "source": [
    "- has extreme values on the positive side"
   ]
  },
  {
   "cell_type": "code",
   "execution_count": 24,
   "metadata": {},
   "outputs": [
    {
     "data": {
      "text/plain": [
       "<matplotlib.axes._subplots.AxesSubplot at 0x21093a80e80>"
      ]
     },
     "execution_count": 24,
     "metadata": {},
     "output_type": "execute_result"
    },
    {
     "data": {
      "image/png": "[encoded data removed]",
      "text/plain": [
       "<Figure size 432x288 with 1 Axes>"
      ]
     },
     "metadata": {
      "needs_background": "light"
     },
     "output_type": "display_data"
    }
   ],
   "source": [
    "sns.boxplot(dfc[\"Front_camera\"],dfc[\"Price\"])"
   ]
  },
  {
   "cell_type": "markdown",
   "metadata": {},
   "source": [
    "- we can see that the most expensive mobile in our dataset has 10 MP front camera , this can be because the dataset includes only the primary camera , but there is posibility for the mobile to has dual or quad cameras."
   ]
  },
  {
   "cell_type": "code",
   "execution_count": 25,
   "metadata": {},
   "outputs": [
    {
     "data": {
      "text/plain": [
       "<matplotlib.axes._subplots.AxesSubplot at 0x21093c06310>"
      ]
     },
     "execution_count": 25,
     "metadata": {},
     "output_type": "execute_result"
    },
    {
     "data": {
      "image/png": "[encoded data removed]",
      "text/plain": [
       "<Figure size 432x288 with 1 Axes>"
      ]
     },
     "metadata": {
      "needs_background": "light"
     },
     "output_type": "display_data"
    }
   ],
   "source": [
    "sns.boxplot(dfc[\"Front_camera\"],dfc[\"Screen_size(cm)\"])"
   ]
  },
  {
   "cell_type": "markdown",
   "metadata": {},
   "source": [
    "screen_size is not having much impact on the value of Front _camera , let's check with the Rear Camera"
   ]
  },
  {
   "cell_type": "code",
   "execution_count": 26,
   "metadata": {},
   "outputs": [
    {
     "data": {
      "text/plain": [
       "<matplotlib.axes._subplots.AxesSubplot at 0x21093dd5640>"
      ]
     },
     "execution_count": 26,
     "metadata": {},
     "output_type": "execute_result"
    },
    {
     "data": {
      "image/png": "[encoded data removed]",
      "text/plain": [
       "<Figure size 432x288 with 1 Axes>"
      ]
     },
     "metadata": {
      "needs_background": "light"
     },
     "output_type": "display_data"
    }
   ],
   "source": [
    "sns.boxplot(dfc[\"Front_camera\"],dfc[\"Rear_Camera\"])"
   ]
  },
  {
   "cell_type": "markdown",
   "metadata": {},
   "source": [
    "- so we can see that values of Front_camera is based on the Rear_camera so we can try to impute the values of Front_Camera based on Rear Camera "
   ]
  },
  {
   "cell_type": "code",
   "execution_count": 27,
   "metadata": {},
   "outputs": [
    {
     "data": {
      "text/html": [
       "<div>\n",
       "<style scoped>\n",
       "    .dataframe tbody tr th:only-of-type {\n",
       "        vertical-align: middle;\n",
       "    }\n",
       "\n",
       "    .dataframe tbody tr th {\n",
       "        vertical-align: top;\n",
       "    }\n",
       "\n",
       "    .dataframe thead th {\n",
       "        text-align: right;\n",
       "    }\n",
       "</style>\n",
       "<table border=\"1\" class=\"dataframe\">\n",
       "  <thead>\n",
       "    <tr style=\"text-align: right;\">\n",
       "      <th></th>\n",
       "      <th>Mobile_name</th>\n",
       "      <th>Colour</th>\n",
       "      <th>Price</th>\n",
       "      <th>Rating</th>\n",
       "      <th>No_of_Ratings</th>\n",
       "      <th>RAM</th>\n",
       "      <th>ROM</th>\n",
       "      <th>Screen_size(cm)</th>\n",
       "      <th>Rear_Camera</th>\n",
       "      <th>Front_camera</th>\n",
       "      <th>Battery(mAh)</th>\n",
       "      <th>Processor</th>\n",
       "      <th>Brand</th>\n",
       "    </tr>\n",
       "  </thead>\n",
       "  <tbody>\n",
       "    <tr>\n",
       "      <th>3</th>\n",
       "      <td>Redmi 9A</td>\n",
       "      <td>SeaBlue</td>\n",
       "      <td>7038</td>\n",
       "      <td>4.3</td>\n",
       "      <td>3073.0</td>\n",
       "      <td>2.0</td>\n",
       "      <td>32</td>\n",
       "      <td>16.59</td>\n",
       "      <td>13</td>\n",
       "      <td>NaN</td>\n",
       "      <td>5000</td>\n",
       "      <td>NaN</td>\n",
       "      <td>Mi</td>\n",
       "    </tr>\n",
       "    <tr>\n",
       "      <th>4</th>\n",
       "      <td>Redmi 9A</td>\n",
       "      <td>Nature Green</td>\n",
       "      <td>7249</td>\n",
       "      <td>4.3</td>\n",
       "      <td>3073.0</td>\n",
       "      <td>2.0</td>\n",
       "      <td>32</td>\n",
       "      <td>16.59</td>\n",
       "      <td>13</td>\n",
       "      <td>NaN</td>\n",
       "      <td>5000</td>\n",
       "      <td>NaN</td>\n",
       "      <td>Mi</td>\n",
       "    </tr>\n",
       "    <tr>\n",
       "      <th>5</th>\n",
       "      <td>Redmi 9A</td>\n",
       "      <td>Midnight Black</td>\n",
       "      <td>7285</td>\n",
       "      <td>4.3</td>\n",
       "      <td>3073.0</td>\n",
       "      <td>2.0</td>\n",
       "      <td>32</td>\n",
       "      <td>16.59</td>\n",
       "      <td>13</td>\n",
       "      <td>NaN</td>\n",
       "      <td>5000</td>\n",
       "      <td>NaN</td>\n",
       "      <td>Mi</td>\n",
       "    </tr>\n",
       "    <tr>\n",
       "      <th>7</th>\n",
       "      <td>Redmi 6A</td>\n",
       "      <td>Gold</td>\n",
       "      <td>7399</td>\n",
       "      <td>4.3</td>\n",
       "      <td>53070.0</td>\n",
       "      <td>2.0</td>\n",
       "      <td>16</td>\n",
       "      <td>13.84</td>\n",
       "      <td>13</td>\n",
       "      <td>NaN</td>\n",
       "      <td>3000</td>\n",
       "      <td>NaN</td>\n",
       "      <td>Mi</td>\n",
       "    </tr>\n",
       "    <tr>\n",
       "      <th>11</th>\n",
       "      <td>Redmi 6A</td>\n",
       "      <td>Gold</td>\n",
       "      <td>7989</td>\n",
       "      <td>4.3</td>\n",
       "      <td>53070.0</td>\n",
       "      <td>2.0</td>\n",
       "      <td>32</td>\n",
       "      <td>13.84</td>\n",
       "      <td>13</td>\n",
       "      <td>NaN</td>\n",
       "      <td>3000</td>\n",
       "      <td>Mediateck</td>\n",
       "      <td>Mi</td>\n",
       "    </tr>\n",
       "    <tr>\n",
       "      <th>...</th>\n",
       "      <td>...</td>\n",
       "      <td>...</td>\n",
       "      <td>...</td>\n",
       "      <td>...</td>\n",
       "      <td>...</td>\n",
       "      <td>...</td>\n",
       "      <td>...</td>\n",
       "      <td>...</td>\n",
       "      <td>...</td>\n",
       "      <td>...</td>\n",
       "      <td>...</td>\n",
       "      <td>...</td>\n",
       "      <td>...</td>\n",
       "    </tr>\n",
       "    <tr>\n",
       "      <th>1158</th>\n",
       "      <td>Samsung M31 Prime</td>\n",
       "      <td>Space Black</td>\n",
       "      <td>17429</td>\n",
       "      <td>4.4</td>\n",
       "      <td>25.0</td>\n",
       "      <td>6.0</td>\n",
       "      <td>128</td>\n",
       "      <td>16.26</td>\n",
       "      <td>64</td>\n",
       "      <td>NaN</td>\n",
       "      <td>6000</td>\n",
       "      <td>NaN</td>\n",
       "      <td>Samsung</td>\n",
       "    </tr>\n",
       "    <tr>\n",
       "      <th>1182</th>\n",
       "      <td>Samsung Galaxy M40</td>\n",
       "      <td>Midnight Blue</td>\n",
       "      <td>15128</td>\n",
       "      <td>4.1</td>\n",
       "      <td>1008.0</td>\n",
       "      <td>6.0</td>\n",
       "      <td>128</td>\n",
       "      <td>16.00</td>\n",
       "      <td>32</td>\n",
       "      <td>NaN</td>\n",
       "      <td>3500</td>\n",
       "      <td>NaN</td>\n",
       "      <td>Samsung</td>\n",
       "    </tr>\n",
       "    <tr>\n",
       "      <th>1205</th>\n",
       "      <td>Samsung Galaxy M20</td>\n",
       "      <td>Ocean Blue</td>\n",
       "      <td>13190</td>\n",
       "      <td>4.3</td>\n",
       "      <td>3261.0</td>\n",
       "      <td>4.0</td>\n",
       "      <td>64</td>\n",
       "      <td>16.00</td>\n",
       "      <td>13</td>\n",
       "      <td>NaN</td>\n",
       "      <td>5000</td>\n",
       "      <td>NaN</td>\n",
       "      <td>Samsung</td>\n",
       "    </tr>\n",
       "    <tr>\n",
       "      <th>1221</th>\n",
       "      <td>Samsung Galaxy M20</td>\n",
       "      <td>Charcoal Black</td>\n",
       "      <td>11447</td>\n",
       "      <td>4.3</td>\n",
       "      <td>1978.0</td>\n",
       "      <td>3.0</td>\n",
       "      <td>32</td>\n",
       "      <td>16.00</td>\n",
       "      <td>13</td>\n",
       "      <td>NaN</td>\n",
       "      <td>5000</td>\n",
       "      <td>NaN</td>\n",
       "      <td>Samsung</td>\n",
       "    </tr>\n",
       "    <tr>\n",
       "      <th>1228</th>\n",
       "      <td>Samsung Galaxy J2 Pro</td>\n",
       "      <td>Black</td>\n",
       "      <td>10480</td>\n",
       "      <td>4.2</td>\n",
       "      <td>6938.0</td>\n",
       "      <td>2.0</td>\n",
       "      <td>16</td>\n",
       "      <td>12.70</td>\n",
       "      <td>8</td>\n",
       "      <td>NaN</td>\n",
       "      <td>2600</td>\n",
       "      <td>Spreadtrum Quad-Core 1.5GHz</td>\n",
       "      <td>Samsung</td>\n",
       "    </tr>\n",
       "  </tbody>\n",
       "</table>\n",
       "<p>83 rows × 13 columns</p>\n",
       "</div>"
      ],
      "text/plain": [
       "                 Mobile_name          Colour  Price  Rating  No_of_Ratings  \\\n",
       "3                  Redmi 9A          SeaBlue   7038     4.3         3073.0   \n",
       "4                  Redmi 9A     Nature Green   7249     4.3         3073.0   \n",
       "5                  Redmi 9A   Midnight Black   7285     4.3         3073.0   \n",
       "7                  Redmi 6A             Gold   7399     4.3        53070.0   \n",
       "11                 Redmi 6A             Gold   7989     4.3        53070.0   \n",
       "...                      ...             ...    ...     ...            ...   \n",
       "1158      Samsung M31 Prime      Space Black  17429     4.4           25.0   \n",
       "1182     Samsung Galaxy M40    Midnight Blue  15128     4.1         1008.0   \n",
       "1205     Samsung Galaxy M20       Ocean Blue  13190     4.3         3261.0   \n",
       "1221     Samsung Galaxy M20   Charcoal Black  11447     4.3         1978.0   \n",
       "1228  Samsung Galaxy J2 Pro            Black  10480     4.2         6938.0   \n",
       "\n",
       "      RAM  ROM  Screen_size(cm)  Rear_Camera  Front_camera  Battery(mAh)  \\\n",
       "3     2.0   32            16.59           13           NaN          5000   \n",
       "4     2.0   32            16.59           13           NaN          5000   \n",
       "5     2.0   32            16.59           13           NaN          5000   \n",
       "7     2.0   16            13.84           13           NaN          3000   \n",
       "11    2.0   32            13.84           13           NaN          3000   \n",
       "...   ...  ...              ...          ...           ...           ...   \n",
       "1158  6.0  128            16.26           64           NaN          6000   \n",
       "1182  6.0  128            16.00           32           NaN          3500   \n",
       "1205  4.0   64            16.00           13           NaN          5000   \n",
       "1221  3.0   32            16.00           13           NaN          5000   \n",
       "1228  2.0   16            12.70            8           NaN          2600   \n",
       "\n",
       "                         Processor    Brand  \n",
       "3                              NaN       Mi  \n",
       "4                              NaN       Mi  \n",
       "5                              NaN       Mi  \n",
       "7                              NaN       Mi  \n",
       "11                      Mediateck        Mi  \n",
       "...                            ...      ...  \n",
       "1158                           NaN  Samsung  \n",
       "1182                           NaN  Samsung  \n",
       "1205                           NaN  Samsung  \n",
       "1221                           NaN  Samsung  \n",
       "1228  Spreadtrum Quad-Core 1.5GHz   Samsung  \n",
       "\n",
       "[83 rows x 13 columns]"
      ]
     },
     "execution_count": 27,
     "metadata": {},
     "output_type": "execute_result"
    }
   ],
   "source": [
    "dfc[dfc[\"Front_camera\"].isnull()==True]"
   ]
  },
  {
   "cell_type": "code",
   "execution_count": 28,
   "metadata": {},
   "outputs": [
    {
     "data": {
      "text/plain": [
       "Brand    Rear_Camera\n",
       "Asus     5               3.0\n",
       "         8               2.0\n",
       "         12             13.0\n",
       "         13              5.0\n",
       "         16              8.0\n",
       "         23              8.0\n",
       "         48             48.0\n",
       "         64             24.0\n",
       "Honor    5               2.0\n",
       "         8               2.0\n",
       "         12              8.0\n",
       "         13              8.0\n",
       "         16              8.0\n",
       "         20             16.0\n",
       "         24             32.0\n",
       "         48             16.0\n",
       "IQOO     48             16.0\n",
       "Infinix  12             16.0\n",
       "         13              8.0\n",
       "         16              8.0\n",
       "         48             16.0\n",
       "Mi       8               5.0\n",
       "         12              5.0\n",
       "         13              5.0\n",
       "         16              5.0\n",
       "         20             20.0\n",
       "         48             13.0\n",
       "         64             32.0\n",
       "         108            20.0\n",
       "Oppo     8               5.0\n",
       "         12              8.0\n",
       "         13              8.0\n",
       "         16             16.0\n",
       "         48             16.0\n",
       "         64             44.0\n",
       "POCO     64             20.0\n",
       "RealMe   12              5.0\n",
       "         13             13.0\n",
       "         48             16.0\n",
       "         64             16.0\n",
       "Realme   48             16.0\n",
       "Samsung  5               2.0\n",
       "         8               5.0\n",
       "         12              8.0\n",
       "         13              8.0\n",
       "         16             16.0\n",
       "         24             24.0\n",
       "         25             25.0\n",
       "         32             32.0\n",
       "         48             32.0\n",
       "         64             32.0\n",
       "         108            10.0\n",
       "Vivo     13              8.0\n",
       "         48             32.0\n",
       "         64             44.0\n",
       "Name: Front_camera, dtype: float64"
      ]
     },
     "execution_count": 28,
     "metadata": {},
     "output_type": "execute_result"
    }
   ],
   "source": [
    "dfc.groupby([\"Brand\",\"Rear_Camera\"])[\"Front_camera\"].agg(pd.Series.mode)"
   ]
  },
  {
   "cell_type": "code",
   "execution_count": 29,
   "metadata": {},
   "outputs": [],
   "source": [
    "dfc[\"Front_camera\"] = dfc.groupby([\"Brand\",\"Rear_Camera\"])[\"Front_camera\"].transform(lambda x:x.fillna(x.mode()[0]))"
   ]
  },
  {
   "cell_type": "code",
   "execution_count": 30,
   "metadata": {},
   "outputs": [
    {
     "data": {
      "text/plain": [
       "array([ 8.,  5., 16., 13., 32., 20.,  2.,  6.,  4., 25., 44., 24., 48.,\n",
       "        3., 10., 40.,  9.])"
      ]
     },
     "execution_count": 30,
     "metadata": {},
     "output_type": "execute_result"
    }
   ],
   "source": [
    "dfc[\"Front_camera\"].unique()"
   ]
  },
  {
   "cell_type": "markdown",
   "metadata": {},
   "source": [
    "- we have imputed Front_camera values based on Brand and Rear_camera \n",
    "- now we need to impute Processor"
   ]
  },
  {
   "cell_type": "code",
   "execution_count": 31,
   "metadata": {},
   "outputs": [
    {
     "data": {
      "text/plain": [
       "Mobile_name        0.000000\n",
       "Colour             0.000000\n",
       "Price              0.000000\n",
       "Rating             0.000000\n",
       "No_of_Ratings      0.000000\n",
       "RAM                0.000000\n",
       "ROM                0.000000\n",
       "Screen_size(cm)    0.000000\n",
       "Rear_Camera        0.000000\n",
       "Front_camera       0.000000\n",
       "Battery(mAh)       0.000000\n",
       "Processor          7.857143\n",
       "Brand              0.000000\n",
       "dtype: float64"
      ]
     },
     "execution_count": 31,
     "metadata": {},
     "output_type": "execute_result"
    }
   ],
   "source": [
    "100*(dfc.isnull().sum()/len(dfc.index))"
   ]
  },
  {
   "cell_type": "code",
   "execution_count": 32,
   "metadata": {},
   "outputs": [
    {
     "data": {
      "text/html": [
       "<div>\n",
       "<style scoped>\n",
       "    .dataframe tbody tr th:only-of-type {\n",
       "        vertical-align: middle;\n",
       "    }\n",
       "\n",
       "    .dataframe tbody tr th {\n",
       "        vertical-align: top;\n",
       "    }\n",
       "\n",
       "    .dataframe thead th {\n",
       "        text-align: right;\n",
       "    }\n",
       "</style>\n",
       "<table border=\"1\" class=\"dataframe\">\n",
       "  <thead>\n",
       "    <tr style=\"text-align: right;\">\n",
       "      <th></th>\n",
       "      <th>Mobile_name</th>\n",
       "      <th>Colour</th>\n",
       "      <th>Price</th>\n",
       "      <th>Rating</th>\n",
       "      <th>No_of_Ratings</th>\n",
       "      <th>RAM</th>\n",
       "      <th>ROM</th>\n",
       "      <th>Screen_size(cm)</th>\n",
       "      <th>Rear_Camera</th>\n",
       "      <th>Front_camera</th>\n",
       "      <th>Battery(mAh)</th>\n",
       "      <th>Processor</th>\n",
       "      <th>Brand</th>\n",
       "    </tr>\n",
       "  </thead>\n",
       "  <tbody>\n",
       "    <tr>\n",
       "      <th>3</th>\n",
       "      <td>Redmi 9A</td>\n",
       "      <td>SeaBlue</td>\n",
       "      <td>7038</td>\n",
       "      <td>4.3</td>\n",
       "      <td>3073.0</td>\n",
       "      <td>2.0</td>\n",
       "      <td>32</td>\n",
       "      <td>16.59</td>\n",
       "      <td>13</td>\n",
       "      <td>5.0</td>\n",
       "      <td>5000</td>\n",
       "      <td>NaN</td>\n",
       "      <td>Mi</td>\n",
       "    </tr>\n",
       "    <tr>\n",
       "      <th>4</th>\n",
       "      <td>Redmi 9A</td>\n",
       "      <td>Nature Green</td>\n",
       "      <td>7249</td>\n",
       "      <td>4.3</td>\n",
       "      <td>3073.0</td>\n",
       "      <td>2.0</td>\n",
       "      <td>32</td>\n",
       "      <td>16.59</td>\n",
       "      <td>13</td>\n",
       "      <td>5.0</td>\n",
       "      <td>5000</td>\n",
       "      <td>NaN</td>\n",
       "      <td>Mi</td>\n",
       "    </tr>\n",
       "    <tr>\n",
       "      <th>5</th>\n",
       "      <td>Redmi 9A</td>\n",
       "      <td>Midnight Black</td>\n",
       "      <td>7285</td>\n",
       "      <td>4.3</td>\n",
       "      <td>3073.0</td>\n",
       "      <td>2.0</td>\n",
       "      <td>32</td>\n",
       "      <td>16.59</td>\n",
       "      <td>13</td>\n",
       "      <td>5.0</td>\n",
       "      <td>5000</td>\n",
       "      <td>NaN</td>\n",
       "      <td>Mi</td>\n",
       "    </tr>\n",
       "    <tr>\n",
       "      <th>7</th>\n",
       "      <td>Redmi 6A</td>\n",
       "      <td>Gold</td>\n",
       "      <td>7399</td>\n",
       "      <td>4.3</td>\n",
       "      <td>53070.0</td>\n",
       "      <td>2.0</td>\n",
       "      <td>16</td>\n",
       "      <td>13.84</td>\n",
       "      <td>13</td>\n",
       "      <td>5.0</td>\n",
       "      <td>3000</td>\n",
       "      <td>NaN</td>\n",
       "      <td>Mi</td>\n",
       "    </tr>\n",
       "    <tr>\n",
       "      <th>8</th>\n",
       "      <td>Redmi 6A</td>\n",
       "      <td>Black</td>\n",
       "      <td>7399</td>\n",
       "      <td>4.3</td>\n",
       "      <td>53070.0</td>\n",
       "      <td>2.0</td>\n",
       "      <td>16</td>\n",
       "      <td>13.84</td>\n",
       "      <td>13</td>\n",
       "      <td>5.0</td>\n",
       "      <td>3000</td>\n",
       "      <td>NaN</td>\n",
       "      <td>Mi</td>\n",
       "    </tr>\n",
       "    <tr>\n",
       "      <th>...</th>\n",
       "      <td>...</td>\n",
       "      <td>...</td>\n",
       "      <td>...</td>\n",
       "      <td>...</td>\n",
       "      <td>...</td>\n",
       "      <td>...</td>\n",
       "      <td>...</td>\n",
       "      <td>...</td>\n",
       "      <td>...</td>\n",
       "      <td>...</td>\n",
       "      <td>...</td>\n",
       "      <td>...</td>\n",
       "      <td>...</td>\n",
       "    </tr>\n",
       "    <tr>\n",
       "      <th>1182</th>\n",
       "      <td>Samsung Galaxy M40</td>\n",
       "      <td>Midnight Blue</td>\n",
       "      <td>15128</td>\n",
       "      <td>4.1</td>\n",
       "      <td>1008.0</td>\n",
       "      <td>6.0</td>\n",
       "      <td>128</td>\n",
       "      <td>16.00</td>\n",
       "      <td>32</td>\n",
       "      <td>32.0</td>\n",
       "      <td>3500</td>\n",
       "      <td>NaN</td>\n",
       "      <td>Samsung</td>\n",
       "    </tr>\n",
       "    <tr>\n",
       "      <th>1205</th>\n",
       "      <td>Samsung Galaxy M20</td>\n",
       "      <td>Ocean Blue</td>\n",
       "      <td>13190</td>\n",
       "      <td>4.3</td>\n",
       "      <td>3261.0</td>\n",
       "      <td>4.0</td>\n",
       "      <td>64</td>\n",
       "      <td>16.00</td>\n",
       "      <td>13</td>\n",
       "      <td>8.0</td>\n",
       "      <td>5000</td>\n",
       "      <td>NaN</td>\n",
       "      <td>Samsung</td>\n",
       "    </tr>\n",
       "    <tr>\n",
       "      <th>1221</th>\n",
       "      <td>Samsung Galaxy M20</td>\n",
       "      <td>Charcoal Black</td>\n",
       "      <td>11447</td>\n",
       "      <td>4.3</td>\n",
       "      <td>1978.0</td>\n",
       "      <td>3.0</td>\n",
       "      <td>32</td>\n",
       "      <td>16.00</td>\n",
       "      <td>13</td>\n",
       "      <td>8.0</td>\n",
       "      <td>5000</td>\n",
       "      <td>NaN</td>\n",
       "      <td>Samsung</td>\n",
       "    </tr>\n",
       "    <tr>\n",
       "      <th>1265</th>\n",
       "      <td>Samsung Galaxy J2-2017</td>\n",
       "      <td>Absolute black</td>\n",
       "      <td>6000</td>\n",
       "      <td>4.2</td>\n",
       "      <td>3969.0</td>\n",
       "      <td>1.0</td>\n",
       "      <td>8</td>\n",
       "      <td>11.94</td>\n",
       "      <td>5</td>\n",
       "      <td>2.0</td>\n",
       "      <td>2000</td>\n",
       "      <td>NaN</td>\n",
       "      <td>Samsung</td>\n",
       "    </tr>\n",
       "    <tr>\n",
       "      <th>1266</th>\n",
       "      <td>Samsung Galaxy J2-2017</td>\n",
       "      <td>Metallic gold</td>\n",
       "      <td>6000</td>\n",
       "      <td>4.2</td>\n",
       "      <td>3969.0</td>\n",
       "      <td>1.0</td>\n",
       "      <td>8</td>\n",
       "      <td>11.94</td>\n",
       "      <td>5</td>\n",
       "      <td>2.0</td>\n",
       "      <td>2000</td>\n",
       "      <td>NaN</td>\n",
       "      <td>Samsung</td>\n",
       "    </tr>\n",
       "  </tbody>\n",
       "</table>\n",
       "<p>99 rows × 13 columns</p>\n",
       "</div>"
      ],
      "text/plain": [
       "                  Mobile_name          Colour  Price  Rating  No_of_Ratings  \\\n",
       "3                   Redmi 9A          SeaBlue   7038     4.3         3073.0   \n",
       "4                   Redmi 9A     Nature Green   7249     4.3         3073.0   \n",
       "5                   Redmi 9A   Midnight Black   7285     4.3         3073.0   \n",
       "7                   Redmi 6A             Gold   7399     4.3        53070.0   \n",
       "8                   Redmi 6A            Black   7399     4.3        53070.0   \n",
       "...                       ...             ...    ...     ...            ...   \n",
       "1182      Samsung Galaxy M40    Midnight Blue  15128     4.1         1008.0   \n",
       "1205      Samsung Galaxy M20       Ocean Blue  13190     4.3         3261.0   \n",
       "1221      Samsung Galaxy M20   Charcoal Black  11447     4.3         1978.0   \n",
       "1265  Samsung Galaxy J2-2017   Absolute black   6000     4.2         3969.0   \n",
       "1266  Samsung Galaxy J2-2017    Metallic gold   6000     4.2         3969.0   \n",
       "\n",
       "      RAM  ROM  Screen_size(cm)  Rear_Camera  Front_camera  Battery(mAh)  \\\n",
       "3     2.0   32            16.59           13           5.0          5000   \n",
       "4     2.0   32            16.59           13           5.0          5000   \n",
       "5     2.0   32            16.59           13           5.0          5000   \n",
       "7     2.0   16            13.84           13           5.0          3000   \n",
       "8     2.0   16            13.84           13           5.0          3000   \n",
       "...   ...  ...              ...          ...           ...           ...   \n",
       "1182  6.0  128            16.00           32          32.0          3500   \n",
       "1205  4.0   64            16.00           13           8.0          5000   \n",
       "1221  3.0   32            16.00           13           8.0          5000   \n",
       "1265  1.0    8            11.94            5           2.0          2000   \n",
       "1266  1.0    8            11.94            5           2.0          2000   \n",
       "\n",
       "     Processor    Brand  \n",
       "3          NaN       Mi  \n",
       "4          NaN       Mi  \n",
       "5          NaN       Mi  \n",
       "7          NaN       Mi  \n",
       "8          NaN       Mi  \n",
       "...        ...      ...  \n",
       "1182       NaN  Samsung  \n",
       "1205       NaN  Samsung  \n",
       "1221       NaN  Samsung  \n",
       "1265       NaN  Samsung  \n",
       "1266       NaN  Samsung  \n",
       "\n",
       "[99 rows x 13 columns]"
      ]
     },
     "execution_count": 32,
     "metadata": {},
     "output_type": "execute_result"
    }
   ],
   "source": [
    "dfc[dfc[\"Processor\"].isnull()==True]"
   ]
  },
  {
   "cell_type": "code",
   "execution_count": 33,
   "metadata": {},
   "outputs": [],
   "source": [
    "dfc[\"Processor\"]=dfc.groupby(\"Brand\")[\"Processor\"].transform(lambda x:x.fillna(x.mode()[0]))"
   ]
  },
  {
   "cell_type": "code",
   "execution_count": 34,
   "metadata": {},
   "outputs": [
    {
     "data": {
      "text/plain": [
       "0"
      ]
     },
     "execution_count": 34,
     "metadata": {},
     "output_type": "execute_result"
    }
   ],
   "source": [
    "dfc[\"Processor\"].isnull().sum()"
   ]
  },
  {
   "cell_type": "code",
   "execution_count": 35,
   "metadata": {},
   "outputs": [
    {
     "data": {
      "text/html": [
       "<div>\n",
       "<style scoped>\n",
       "    .dataframe tbody tr th:only-of-type {\n",
       "        vertical-align: middle;\n",
       "    }\n",
       "\n",
       "    .dataframe tbody tr th {\n",
       "        vertical-align: top;\n",
       "    }\n",
       "\n",
       "    .dataframe thead th {\n",
       "        text-align: right;\n",
       "    }\n",
       "</style>\n",
       "<table border=\"1\" class=\"dataframe\">\n",
       "  <thead>\n",
       "    <tr style=\"text-align: right;\">\n",
       "      <th></th>\n",
       "      <th>Mobile_name</th>\n",
       "      <th>Colour</th>\n",
       "      <th>Price</th>\n",
       "      <th>Rating</th>\n",
       "      <th>No_of_Ratings</th>\n",
       "      <th>RAM</th>\n",
       "      <th>ROM</th>\n",
       "      <th>Screen_size(cm)</th>\n",
       "      <th>Rear_Camera</th>\n",
       "      <th>Front_camera</th>\n",
       "      <th>Battery(mAh)</th>\n",
       "      <th>Processor</th>\n",
       "      <th>Brand</th>\n",
       "    </tr>\n",
       "  </thead>\n",
       "  <tbody>\n",
       "    <tr>\n",
       "      <th>0</th>\n",
       "      <td>Redmi 8A Dual</td>\n",
       "      <td>Sea Blue</td>\n",
       "      <td>6999</td>\n",
       "      <td>4.3</td>\n",
       "      <td>16539.0</td>\n",
       "      <td>2.0</td>\n",
       "      <td>32</td>\n",
       "      <td>15.80</td>\n",
       "      <td>13</td>\n",
       "      <td>8.0</td>\n",
       "      <td>5000</td>\n",
       "      <td>Qualcomm Snapdragon 439</td>\n",
       "      <td>Mi</td>\n",
       "    </tr>\n",
       "    <tr>\n",
       "      <th>1</th>\n",
       "      <td>Redmi 8A Dual</td>\n",
       "      <td>Midnight Grey</td>\n",
       "      <td>6999</td>\n",
       "      <td>4.3</td>\n",
       "      <td>16539.0</td>\n",
       "      <td>2.0</td>\n",
       "      <td>32</td>\n",
       "      <td>15.80</td>\n",
       "      <td>13</td>\n",
       "      <td>8.0</td>\n",
       "      <td>5000</td>\n",
       "      <td>Qualcomm Snapdragon 439</td>\n",
       "      <td>Mi</td>\n",
       "    </tr>\n",
       "    <tr>\n",
       "      <th>2</th>\n",
       "      <td>Redmi 8A Dual</td>\n",
       "      <td>Sky White</td>\n",
       "      <td>6999</td>\n",
       "      <td>4.3</td>\n",
       "      <td>16539.0</td>\n",
       "      <td>2.0</td>\n",
       "      <td>32</td>\n",
       "      <td>15.80</td>\n",
       "      <td>13</td>\n",
       "      <td>8.0</td>\n",
       "      <td>5000</td>\n",
       "      <td>Qualcomm Snapdragon 439</td>\n",
       "      <td>Mi</td>\n",
       "    </tr>\n",
       "    <tr>\n",
       "      <th>3</th>\n",
       "      <td>Redmi 9A</td>\n",
       "      <td>SeaBlue</td>\n",
       "      <td>7038</td>\n",
       "      <td>4.3</td>\n",
       "      <td>3073.0</td>\n",
       "      <td>2.0</td>\n",
       "      <td>32</td>\n",
       "      <td>16.59</td>\n",
       "      <td>13</td>\n",
       "      <td>5.0</td>\n",
       "      <td>5000</td>\n",
       "      <td>Qualcomm Snapdragon 625</td>\n",
       "      <td>Mi</td>\n",
       "    </tr>\n",
       "    <tr>\n",
       "      <th>4</th>\n",
       "      <td>Redmi 9A</td>\n",
       "      <td>Nature Green</td>\n",
       "      <td>7249</td>\n",
       "      <td>4.3</td>\n",
       "      <td>3073.0</td>\n",
       "      <td>2.0</td>\n",
       "      <td>32</td>\n",
       "      <td>16.59</td>\n",
       "      <td>13</td>\n",
       "      <td>5.0</td>\n",
       "      <td>5000</td>\n",
       "      <td>Qualcomm Snapdragon 625</td>\n",
       "      <td>Mi</td>\n",
       "    </tr>\n",
       "    <tr>\n",
       "      <th>5</th>\n",
       "      <td>Redmi 9A</td>\n",
       "      <td>Midnight Black</td>\n",
       "      <td>7285</td>\n",
       "      <td>4.3</td>\n",
       "      <td>3073.0</td>\n",
       "      <td>2.0</td>\n",
       "      <td>32</td>\n",
       "      <td>16.59</td>\n",
       "      <td>13</td>\n",
       "      <td>5.0</td>\n",
       "      <td>5000</td>\n",
       "      <td>Qualcomm Snapdragon 625</td>\n",
       "      <td>Mi</td>\n",
       "    </tr>\n",
       "    <tr>\n",
       "      <th>6</th>\n",
       "      <td>Redmi 6</td>\n",
       "      <td>Black</td>\n",
       "      <td>7290</td>\n",
       "      <td>4.4</td>\n",
       "      <td>552049.0</td>\n",
       "      <td>3.0</td>\n",
       "      <td>32</td>\n",
       "      <td>13.84</td>\n",
       "      <td>12</td>\n",
       "      <td>5.0</td>\n",
       "      <td>3000</td>\n",
       "      <td>2.0 GHz Mediatek P22 Octacore</td>\n",
       "      <td>Mi</td>\n",
       "    </tr>\n",
       "    <tr>\n",
       "      <th>7</th>\n",
       "      <td>Redmi 6A</td>\n",
       "      <td>Gold</td>\n",
       "      <td>7399</td>\n",
       "      <td>4.3</td>\n",
       "      <td>53070.0</td>\n",
       "      <td>2.0</td>\n",
       "      <td>16</td>\n",
       "      <td>13.84</td>\n",
       "      <td>13</td>\n",
       "      <td>5.0</td>\n",
       "      <td>3000</td>\n",
       "      <td>Qualcomm Snapdragon 625</td>\n",
       "      <td>Mi</td>\n",
       "    </tr>\n",
       "    <tr>\n",
       "      <th>8</th>\n",
       "      <td>Redmi 6A</td>\n",
       "      <td>Black</td>\n",
       "      <td>7399</td>\n",
       "      <td>4.3</td>\n",
       "      <td>53070.0</td>\n",
       "      <td>2.0</td>\n",
       "      <td>16</td>\n",
       "      <td>13.84</td>\n",
       "      <td>13</td>\n",
       "      <td>5.0</td>\n",
       "      <td>3000</td>\n",
       "      <td>Qualcomm Snapdragon 625</td>\n",
       "      <td>Mi</td>\n",
       "    </tr>\n",
       "    <tr>\n",
       "      <th>9</th>\n",
       "      <td>Redmi 6A</td>\n",
       "      <td>Blue</td>\n",
       "      <td>7399</td>\n",
       "      <td>4.3</td>\n",
       "      <td>53070.0</td>\n",
       "      <td>2.0</td>\n",
       "      <td>16</td>\n",
       "      <td>13.84</td>\n",
       "      <td>13</td>\n",
       "      <td>5.0</td>\n",
       "      <td>3000</td>\n",
       "      <td>Qualcomm Snapdragon 625</td>\n",
       "      <td>Mi</td>\n",
       "    </tr>\n",
       "  </tbody>\n",
       "</table>\n",
       "</div>"
      ],
      "text/plain": [
       "      Mobile_name          Colour  Price  Rating  No_of_Ratings  RAM  ROM  \\\n",
       "0  Redmi 8A Dual         Sea Blue   6999     4.3        16539.0  2.0   32   \n",
       "1  Redmi 8A Dual    Midnight Grey   6999     4.3        16539.0  2.0   32   \n",
       "2  Redmi 8A Dual        Sky White   6999     4.3        16539.0  2.0   32   \n",
       "3       Redmi 9A          SeaBlue   7038     4.3         3073.0  2.0   32   \n",
       "4       Redmi 9A     Nature Green   7249     4.3         3073.0  2.0   32   \n",
       "5       Redmi 9A   Midnight Black   7285     4.3         3073.0  2.0   32   \n",
       "6        Redmi 6            Black   7290     4.4       552049.0  3.0   32   \n",
       "7       Redmi 6A             Gold   7399     4.3        53070.0  2.0   16   \n",
       "8       Redmi 6A            Black   7399     4.3        53070.0  2.0   16   \n",
       "9       Redmi 6A             Blue   7399     4.3        53070.0  2.0   16   \n",
       "\n",
       "   Screen_size(cm)  Rear_Camera  Front_camera  Battery(mAh)  \\\n",
       "0            15.80           13           8.0          5000   \n",
       "1            15.80           13           8.0          5000   \n",
       "2            15.80           13           8.0          5000   \n",
       "3            16.59           13           5.0          5000   \n",
       "4            16.59           13           5.0          5000   \n",
       "5            16.59           13           5.0          5000   \n",
       "6            13.84           12           5.0          3000   \n",
       "7            13.84           13           5.0          3000   \n",
       "8            13.84           13           5.0          3000   \n",
       "9            13.84           13           5.0          3000   \n",
       "\n",
       "                        Processor Brand  \n",
       "0        Qualcomm Snapdragon 439     Mi  \n",
       "1        Qualcomm Snapdragon 439     Mi  \n",
       "2        Qualcomm Snapdragon 439     Mi  \n",
       "3        Qualcomm Snapdragon 625     Mi  \n",
       "4        Qualcomm Snapdragon 625     Mi  \n",
       "5        Qualcomm Snapdragon 625     Mi  \n",
       "6  2.0 GHz Mediatek P22 Octacore     Mi  \n",
       "7        Qualcomm Snapdragon 625     Mi  \n",
       "8        Qualcomm Snapdragon 625     Mi  \n",
       "9        Qualcomm Snapdragon 625     Mi  "
      ]
     },
     "execution_count": 35,
     "metadata": {},
     "output_type": "execute_result"
    }
   ],
   "source": [
    "dfc.head(10)"
   ]
  },
  {
   "cell_type": "code",
   "execution_count": 36,
   "metadata": {},
   "outputs": [
    {
     "data": {
      "text/plain": [
       "Mobile_name        0\n",
       "Colour             0\n",
       "Price              0\n",
       "Rating             0\n",
       "No_of_Ratings      0\n",
       "RAM                0\n",
       "ROM                0\n",
       "Screen_size(cm)    0\n",
       "Rear_Camera        0\n",
       "Front_camera       0\n",
       "Battery(mAh)       0\n",
       "Processor          0\n",
       "Brand              0\n",
       "dtype: int64"
      ]
     },
     "execution_count": 36,
     "metadata": {},
     "output_type": "execute_result"
    }
   ],
   "source": [
    "dfc.isnull().sum()"
   ]
  },
  {
   "cell_type": "markdown",
   "metadata": {},
   "source": [
    "- we have imputed all the values and there are no missing values in our dataset"
   ]
  },
  {
   "cell_type": "markdown",
   "metadata": {},
   "source": [
    "### Explorartory Data Analysis"
   ]
  },
  {
   "cell_type": "code",
   "execution_count": 37,
   "metadata": {},
   "outputs": [],
   "source": [
    "numeric_data=dfc.select_dtypes(include=['int64','float64'])"
   ]
  },
  {
   "cell_type": "code",
   "execution_count": 38,
   "metadata": {},
   "outputs": [
    {
     "data": {
      "text/plain": [
       "array([ 2. ,  3. ,  4. ,  6. ,  8. ,  1. , 12. ,  1.5])"
      ]
     },
     "execution_count": 38,
     "metadata": {},
     "output_type": "execute_result"
    }
   ],
   "source": [
    "dfc[\"RAM\"].unique()"
   ]
  },
  {
   "cell_type": "code",
   "execution_count": 39,
   "metadata": {},
   "outputs": [
    {
     "data": {
      "text/plain": [
       "Index(['Price', 'Rating', 'No_of_Ratings', 'RAM', 'ROM', 'Screen_size(cm)',\n",
       "       'Rear_Camera', 'Front_camera', 'Battery(mAh)'],\n",
       "      dtype='object')"
      ]
     },
     "execution_count": 39,
     "metadata": {},
     "output_type": "execute_result"
    }
   ],
   "source": [
    "numeric_data.columns"
   ]
  },
  {
   "cell_type": "code",
   "execution_count": 40,
   "metadata": {},
   "outputs": [
    {
     "data": {
      "image/png": "[encoded data removed]",
      "text/plain": [
       "<Figure size 1152x1440 with 9 Axes>"
      ]
     },
     "metadata": {
      "needs_background": "light"
     },
     "output_type": "display_data"
    }
   ],
   "source": [
    "numeric_data.hist(figsize=(16, 20), bins=70, xlabelsize=8, ylabelsize=8); "
   ]
  },
  {
   "cell_type": "markdown",
   "metadata": {},
   "source": [
    "- we can see that Price is highly positive skewed "
   ]
  },
  {
   "cell_type": "markdown",
   "metadata": {},
   "source": [
    "### Mobile_name"
   ]
  },
  {
   "cell_type": "code",
   "execution_count": 41,
   "metadata": {},
   "outputs": [
    {
     "data": {
      "text/plain": [
       "Asus Zenfone Selfie      17\n",
       "Redmi Note 9             13\n",
       "Redmi Note 7 Pro         12\n",
       "Realme X2                12\n",
       "Redmi Note 9 Pro         12\n",
       "                         ..\n",
       "Vivo Y12                  1\n",
       "OPPO A71 New Edition      1\n",
       "OPPO R17 Pro              1\n",
       "Samsung Galaxy M01s       1\n",
       "OPPO Reno2 F              1\n",
       "Name: Mobile_name, Length: 328, dtype: int64"
      ]
     },
     "execution_count": 41,
     "metadata": {},
     "output_type": "execute_result"
    }
   ],
   "source": [
    "dfc[\"Mobile_name\"].value_counts()"
   ]
  },
  {
   "cell_type": "code",
   "execution_count": 42,
   "metadata": {},
   "outputs": [
    {
     "data": {
      "image/png": "[encoded data removed]",
      "text/plain": [
       "<Figure size 936x648 with 1 Axes>"
      ]
     },
     "metadata": {
      "needs_background": "light"
     },
     "output_type": "display_data"
    }
   ],
   "source": [
    "plt.figure(figsize=(13,9))\n",
    "sns.countplot(dfc[\"Mobile_name\"][:100]);\n",
    "plt.xticks(rotation=45);\n",
    "plt.show()"
   ]
  },
  {
   "cell_type": "markdown",
   "metadata": {},
   "source": [
    "- the count plot just gives an intuition of how many unique mobiles are there and what are theor counts, our dataset has around 328 unique mobiles plotting them all , will not make much sense hence , we are just checking the first 100"
   ]
  },
  {
   "cell_type": "markdown",
   "metadata": {},
   "source": [
    "### Brand"
   ]
  },
  {
   "cell_type": "code",
   "execution_count": 43,
   "metadata": {},
   "outputs": [
    {
     "data": {
      "text/plain": [
       "Mi         305\n",
       "Samsung    216\n",
       "Asus       194\n",
       "RealMe     154\n",
       "Honor      128\n",
       "Oppo       124\n",
       "Infinix     91\n",
       "Vivo        26\n",
       "POCO        12\n",
       "IQOO         7\n",
       "Realme       3\n",
       "Name: Brand, dtype: int64"
      ]
     },
     "execution_count": 43,
     "metadata": {},
     "output_type": "execute_result"
    }
   ],
   "source": [
    "dfc[\"Brand\"].value_counts()"
   ]
  },
  {
   "cell_type": "markdown",
   "metadata": {},
   "source": [
    "- there are 2 values with same name as Realme"
   ]
  },
  {
   "cell_type": "code",
   "execution_count": 44,
   "metadata": {},
   "outputs": [],
   "source": [
    "dfc[\"Brand\"].replace(\"Realme\",\"RealMe\",inplace=True)"
   ]
  },
  {
   "cell_type": "code",
   "execution_count": 45,
   "metadata": {},
   "outputs": [
    {
     "data": {
      "text/plain": [
       "array(['Mi', 'RealMe', 'Oppo', 'Infinix', 'Vivo', 'Asus', 'Honor', 'POCO',\n",
       "       'Samsung', 'IQOO'], dtype=object)"
      ]
     },
     "execution_count": 45,
     "metadata": {},
     "output_type": "execute_result"
    }
   ],
   "source": [
    "dfc[\"Brand\"].unique()"
   ]
  },
  {
   "cell_type": "code",
   "execution_count": 46,
   "metadata": {},
   "outputs": [
    {
     "data": {
      "image/png": "[encoded data removed]",
      "text/plain": [
       "<Figure size 936x432 with 1 Axes>"
      ]
     },
     "metadata": {
      "needs_background": "light"
     },
     "output_type": "display_data"
    }
   ],
   "source": [
    "plt.figure(figsize=(13,6))\n",
    "sns.countplot(dfc[\"Brand\"]);"
   ]
  },
  {
   "cell_type": "markdown",
   "metadata": {},
   "source": [
    "- MI has most number of mobiles i.e.,,ore than 300 in our dataset followed by Realme i.e., >150\n",
    "- Vivo, IQOO has very few mobiles\n"
   ]
  },
  {
   "cell_type": "code",
   "execution_count": 90,
   "metadata": {},
   "outputs": [
    {
     "data": {
      "text/plain": [
       "<matplotlib.axes._subplots.AxesSubplot at 0x21099cf7d00>"
      ]
     },
     "execution_count": 90,
     "metadata": {},
     "output_type": "execute_result"
    },
    {
     "data": {
      "image/png": "[encoded data removed]",
      "text/plain": [
       "<Figure size 432x288 with 1 Axes>"
      ]
     },
     "metadata": {
      "needs_background": "light"
     },
     "output_type": "display_data"
    }
   ],
   "source": [
    "sns.boxplot(dfc[\"Brand\"],dfc[\"Price\"])\n"
   ]
  },
  {
   "cell_type": "markdown",
   "metadata": {},
   "source": [
    "- the median Price for IQOO phones are higher compared to other Brands\n",
    "- Samsung has huge number of outliers, most of the Brand have outlier Prices, except for Vivo and POCO"
   ]
  },
  {
   "cell_type": "code",
   "execution_count": 88,
   "metadata": {},
   "outputs": [
    {
     "data": {
      "text/plain": [
       "<matplotlib.axes._subplots.AxesSubplot at 0x2109d96e4f0>"
      ]
     },
     "execution_count": 88,
     "metadata": {},
     "output_type": "execute_result"
    },
    {
     "data": {
      "image/png": "[encoded data removed]",
      "text/plain": [
       "<Figure size 936x432 with 1 Axes>"
      ]
     },
     "metadata": {
      "needs_background": "light"
     },
     "output_type": "display_data"
    }
   ],
   "source": [
    "plt.figure(figsize=(13,6))\n",
    "sns.barplot(dfc[\"Brand\"],dfc[\"Price\"],hue=dfc[\"RAM\"])\n"
   ]
  },
  {
   "cell_type": "markdown",
   "metadata": {},
   "source": [
    "- Only Samsung,Realme and Asus have phones with highest RAMs and thus having higher prices for that particular phones"
   ]
  },
  {
   "cell_type": "markdown",
   "metadata": {},
   "source": [
    "### Colour"
   ]
  },
  {
   "cell_type": "code",
   "execution_count": 47,
   "metadata": {},
   "outputs": [
    {
     "data": {
      "text/plain": [
       "Black            161\n",
       "Gold             114\n",
       "Blue              72\n",
       "White             46\n",
       "Red               44\n",
       "                ... \n",
       "Dazzle Blue        1\n",
       "Pure White         1\n",
       "Vanilla Mint       1\n",
       "Mist Black         1\n",
       "Charcoal Blue      1\n",
       "Name: Colour, Length: 286, dtype: int64"
      ]
     },
     "execution_count": 47,
     "metadata": {},
     "output_type": "execute_result"
    }
   ],
   "source": [
    "dfc[\"Colour\"].value_counts()"
   ]
  },
  {
   "cell_type": "code",
   "execution_count": 48,
   "metadata": {},
   "outputs": [
    {
     "data": {
      "image/png": "[encoded data removed]",
      "text/plain": [
       "<Figure size 1008x504 with 1 Axes>"
      ]
     },
     "metadata": {
      "needs_background": "light"
     },
     "output_type": "display_data"
    }
   ],
   "source": [
    "plt.figure(figsize=(14,7))\n",
    "sns.countplot(dfc[\"Colour\"][:200]);\n",
    "plt.xticks(rotation=65);\n",
    "plt.show()"
   ]
  },
  {
   "cell_type": "markdown",
   "metadata": {},
   "source": [
    "- most of the phones are in black, blue and gold"
   ]
  },
  {
   "cell_type": "code",
   "execution_count": 81,
   "metadata": {},
   "outputs": [
    {
     "data": {
      "image/png": "[encoded data removed]",
      "text/plain": [
       "<Figure size 1296x432 with 1 Axes>"
      ]
     },
     "metadata": {
      "needs_background": "light"
     },
     "output_type": "display_data"
    }
   ],
   "source": [
    "plt.figure(figsize=(18,6))\n",
    "sns.boxplot(dfc[\"Colour\"][:200],dfc[\"Price\"])\n",
    "plt.xticks(rotation=45);"
   ]
  },
  {
   "cell_type": "code",
   "execution_count": 49,
   "metadata": {},
   "outputs": [
    {
     "data": {
      "text/plain": [
       "Index(['Mobile_name', 'Colour', 'Price', 'Rating', 'No_of_Ratings', 'RAM',\n",
       "       'ROM', 'Screen_size(cm)', 'Rear_Camera', 'Front_camera', 'Battery(mAh)',\n",
       "       'Processor', 'Brand'],\n",
       "      dtype='object')"
      ]
     },
     "execution_count": 49,
     "metadata": {},
     "output_type": "execute_result"
    }
   ],
   "source": [
    "dfc.columns"
   ]
  },
  {
   "cell_type": "markdown",
   "metadata": {},
   "source": [
    "### Price"
   ]
  },
  {
   "cell_type": "code",
   "execution_count": 50,
   "metadata": {},
   "outputs": [
    {
     "data": {
      "text/plain": [
       "117990"
      ]
     },
     "execution_count": 50,
     "metadata": {},
     "output_type": "execute_result"
    }
   ],
   "source": [
    "df[\"Price\"].max()"
   ]
  },
  {
   "cell_type": "code",
   "execution_count": 51,
   "metadata": {},
   "outputs": [
    {
     "data": {
      "text/html": [
       "<div>\n",
       "<style scoped>\n",
       "    .dataframe tbody tr th:only-of-type {\n",
       "        vertical-align: middle;\n",
       "    }\n",
       "\n",
       "    .dataframe tbody tr th {\n",
       "        vertical-align: top;\n",
       "    }\n",
       "\n",
       "    .dataframe thead th {\n",
       "        text-align: right;\n",
       "    }\n",
       "</style>\n",
       "<table border=\"1\" class=\"dataframe\">\n",
       "  <thead>\n",
       "    <tr style=\"text-align: right;\">\n",
       "      <th></th>\n",
       "      <th>Mobile_name</th>\n",
       "      <th>Colour</th>\n",
       "      <th>Price</th>\n",
       "      <th>Rating</th>\n",
       "      <th>No_of_Ratings</th>\n",
       "      <th>RAM</th>\n",
       "      <th>ROM</th>\n",
       "      <th>Screen_size(cm)</th>\n",
       "      <th>Rear_Camera</th>\n",
       "      <th>Front_camera</th>\n",
       "      <th>Battery(mAh)</th>\n",
       "      <th>Processor</th>\n",
       "      <th>Brand</th>\n",
       "    </tr>\n",
       "  </thead>\n",
       "  <tbody>\n",
       "    <tr>\n",
       "      <th>1052</th>\n",
       "      <td>Samsung Galaxy S10 Plus</td>\n",
       "      <td>Ceramic White</td>\n",
       "      <td>117990</td>\n",
       "      <td>4.5</td>\n",
       "      <td>23.0</td>\n",
       "      <td>12.0</td>\n",
       "      <td>512</td>\n",
       "      <td>16.26</td>\n",
       "      <td>16</td>\n",
       "      <td>10.0</td>\n",
       "      <td>4100</td>\n",
       "      <td>Exynos 9 9820</td>\n",
       "      <td>Samsung</td>\n",
       "    </tr>\n",
       "  </tbody>\n",
       "</table>\n",
       "</div>"
      ],
      "text/plain": [
       "                   Mobile_name         Colour   Price  Rating  No_of_Ratings  \\\n",
       "1052  Samsung Galaxy S10 Plus   Ceramic White  117990     4.5           23.0   \n",
       "\n",
       "       RAM  ROM  Screen_size(cm)  Rear_Camera  Front_camera  Battery(mAh)  \\\n",
       "1052  12.0  512            16.26           16          10.0          4100   \n",
       "\n",
       "           Processor    Brand  \n",
       "1052  Exynos 9 9820   Samsung  "
      ]
     },
     "execution_count": 51,
     "metadata": {},
     "output_type": "execute_result"
    }
   ],
   "source": [
    "dfc[dfc[\"Price\"]==dfc[\"Price\"].max()]"
   ]
  },
  {
   "cell_type": "code",
   "execution_count": 52,
   "metadata": {},
   "outputs": [
    {
     "data": {
      "text/html": [
       "<div>\n",
       "<style scoped>\n",
       "    .dataframe tbody tr th:only-of-type {\n",
       "        vertical-align: middle;\n",
       "    }\n",
       "\n",
       "    .dataframe tbody tr th {\n",
       "        vertical-align: top;\n",
       "    }\n",
       "\n",
       "    .dataframe thead th {\n",
       "        text-align: right;\n",
       "    }\n",
       "</style>\n",
       "<table border=\"1\" class=\"dataframe\">\n",
       "  <thead>\n",
       "    <tr style=\"text-align: right;\">\n",
       "      <th></th>\n",
       "      <th>Mobile_name</th>\n",
       "      <th>Colour</th>\n",
       "      <th>Price</th>\n",
       "      <th>Rating</th>\n",
       "      <th>No_of_Ratings</th>\n",
       "      <th>RAM</th>\n",
       "      <th>ROM</th>\n",
       "      <th>Screen_size(cm)</th>\n",
       "      <th>Rear_Camera</th>\n",
       "      <th>Front_camera</th>\n",
       "      <th>Battery(mAh)</th>\n",
       "      <th>Processor</th>\n",
       "      <th>Brand</th>\n",
       "    </tr>\n",
       "  </thead>\n",
       "  <tbody>\n",
       "    <tr>\n",
       "      <th>968</th>\n",
       "      <td>Honor Bee 4G</td>\n",
       "      <td>Black</td>\n",
       "      <td>3990</td>\n",
       "      <td>3.7</td>\n",
       "      <td>390.0</td>\n",
       "      <td>1.0</td>\n",
       "      <td>8</td>\n",
       "      <td>12.7</td>\n",
       "      <td>8</td>\n",
       "      <td>2.0</td>\n",
       "      <td>2200</td>\n",
       "      <td>Cortex-A53</td>\n",
       "      <td>Honor</td>\n",
       "    </tr>\n",
       "  </tbody>\n",
       "</table>\n",
       "</div>"
      ],
      "text/plain": [
       "       Mobile_name Colour  Price  Rating  No_of_Ratings  RAM  ROM  \\\n",
       "968  Honor Bee 4G   Black   3990     3.7          390.0  1.0    8   \n",
       "\n",
       "     Screen_size(cm)  Rear_Camera  Front_camera  Battery(mAh)    Processor  \\\n",
       "968             12.7            8           2.0          2200  Cortex-A53    \n",
       "\n",
       "     Brand  \n",
       "968  Honor  "
      ]
     },
     "execution_count": 52,
     "metadata": {},
     "output_type": "execute_result"
    }
   ],
   "source": [
    "dfc[dfc[\"Price\"]==dfc[\"Price\"].min()]"
   ]
  },
  {
   "cell_type": "code",
   "execution_count": 55,
   "metadata": {},
   "outputs": [
    {
     "data": {
      "text/plain": [
       "16302.639682539682"
      ]
     },
     "execution_count": 55,
     "metadata": {},
     "output_type": "execute_result"
    }
   ],
   "source": [
    "dfc[\"Price\"].mean()"
   ]
  },
  {
   "cell_type": "code",
   "execution_count": 56,
   "metadata": {},
   "outputs": [
    {
     "data": {
      "text/plain": [
       "12900.0"
      ]
     },
     "execution_count": 56,
     "metadata": {},
     "output_type": "execute_result"
    }
   ],
   "source": [
    "dfc[\"Price\"].median()"
   ]
  },
  {
   "cell_type": "code",
   "execution_count": 59,
   "metadata": {},
   "outputs": [
    {
     "data": {
      "text/plain": [
       "<matplotlib.axes._subplots.AxesSubplot at 0x2109590e700>"
      ]
     },
     "execution_count": 59,
     "metadata": {},
     "output_type": "execute_result"
    },
    {
     "data": {
      "image/png": "[encoded data removed]",
      "text/plain": [
       "<Figure size 432x288 with 1 Axes>"
      ]
     },
     "metadata": {
      "needs_background": "light"
     },
     "output_type": "display_data"
    }
   ],
   "source": [
    "sns.distplot(dfc[\"Price\"],bins=100)"
   ]
  },
  {
   "cell_type": "markdown",
   "metadata": {},
   "source": [
    "- Price is highly skewed meaning outliers or extrem points exists"
   ]
  },
  {
   "cell_type": "code",
   "execution_count": 106,
   "metadata": {},
   "outputs": [
    {
     "data": {
      "text/plain": [
       "<Figure size 576x288 with 0 Axes>"
      ]
     },
     "metadata": {},
     "output_type": "display_data"
    },
    {
     "data": {
      "image/png": "[encoded data removed]",
      "text/plain": [
       "<Figure size 540x180 with 3 Axes>"
      ]
     },
     "metadata": {
      "needs_background": "light"
     },
     "output_type": "display_data"
    },
    {
     "data": {
      "text/plain": [
       "<Figure size 576x288 with 0 Axes>"
      ]
     },
     "metadata": {},
     "output_type": "display_data"
    },
    {
     "data": {
      "image/png": "[encoded data removed]",
      "text/plain": [
       "<Figure size 540x180 with 3 Axes>"
      ]
     },
     "metadata": {
      "needs_background": "light"
     },
     "output_type": "display_data"
    },
    {
     "data": {
      "text/plain": [
       "<Figure size 576x288 with 0 Axes>"
      ]
     },
     "metadata": {},
     "output_type": "display_data"
    },
    {
     "data": {
      "image/png": "[encoded data removed]",
      "text/plain": [
       "<Figure size 540x180 with 3 Axes>"
      ]
     },
     "metadata": {
      "needs_background": "light"
     },
     "output_type": "display_data"
    }
   ],
   "source": [
    "#plt.figure(figsize=(13,10))\n",
    "for i in range(0, len(numeric_data.columns), 3):\n",
    "    plt.figure(figsize=(8,4))\n",
    "    sns.pairplot(data=numeric_data,\n",
    "                x_vars=numeric_data.columns[i:i+3],\n",
    "                y_vars=['Price'])"
   ]
  },
  {
   "cell_type": "markdown",
   "metadata": {},
   "source": [
    "- there is linear relationship between ratings and price;RAM and Price,Rear_Camera and Price"
   ]
  },
  {
   "cell_type": "markdown",
   "metadata": {},
   "source": [
    "### Battery"
   ]
  },
  {
   "cell_type": "code",
   "execution_count": 63,
   "metadata": {},
   "outputs": [
    {
     "data": {
      "text/plain": [
       "<matplotlib.axes._subplots.AxesSubplot at 0x21096c1c250>"
      ]
     },
     "execution_count": 63,
     "metadata": {},
     "output_type": "execute_result"
    },
    {
     "data": {
      "image/png": "[encoded data removed]",
      "text/plain": [
       "<Figure size 432x288 with 1 Axes>"
      ]
     },
     "metadata": {
      "needs_background": "light"
     },
     "output_type": "display_data"
    }
   ],
   "source": [
    "sns.boxplot(dfc[\"Battery(mAh)\"])"
   ]
  },
  {
   "cell_type": "code",
   "execution_count": 65,
   "metadata": {},
   "outputs": [
    {
     "data": {
      "text/html": [
       "<div>\n",
       "<style scoped>\n",
       "    .dataframe tbody tr th:only-of-type {\n",
       "        vertical-align: middle;\n",
       "    }\n",
       "\n",
       "    .dataframe tbody tr th {\n",
       "        vertical-align: top;\n",
       "    }\n",
       "\n",
       "    .dataframe thead th {\n",
       "        text-align: right;\n",
       "    }\n",
       "</style>\n",
       "<table border=\"1\" class=\"dataframe\">\n",
       "  <thead>\n",
       "    <tr style=\"text-align: right;\">\n",
       "      <th></th>\n",
       "      <th>Mobile_name</th>\n",
       "      <th>Colour</th>\n",
       "      <th>Price</th>\n",
       "      <th>Rating</th>\n",
       "      <th>No_of_Ratings</th>\n",
       "      <th>RAM</th>\n",
       "      <th>ROM</th>\n",
       "      <th>Screen_size(cm)</th>\n",
       "      <th>Rear_Camera</th>\n",
       "      <th>Front_camera</th>\n",
       "      <th>Battery(mAh)</th>\n",
       "      <th>Processor</th>\n",
       "      <th>Brand</th>\n",
       "    </tr>\n",
       "  </thead>\n",
       "  <tbody>\n",
       "    <tr>\n",
       "      <th>1114</th>\n",
       "      <td>Samsung GALAXY M51</td>\n",
       "      <td>Celestial Black</td>\n",
       "      <td>24790</td>\n",
       "      <td>4.2</td>\n",
       "      <td>99.0</td>\n",
       "      <td>6.0</td>\n",
       "      <td>128</td>\n",
       "      <td>17.02</td>\n",
       "      <td>64</td>\n",
       "      <td>32.0</td>\n",
       "      <td>7000</td>\n",
       "      <td>Exynos Octa Core</td>\n",
       "      <td>Samsung</td>\n",
       "    </tr>\n",
       "    <tr>\n",
       "      <th>1120</th>\n",
       "      <td>Samsung GALAXY M51</td>\n",
       "      <td>ELECTRIC BLUE</td>\n",
       "      <td>23308</td>\n",
       "      <td>4.2</td>\n",
       "      <td>99.0</td>\n",
       "      <td>6.0</td>\n",
       "      <td>128</td>\n",
       "      <td>17.02</td>\n",
       "      <td>64</td>\n",
       "      <td>32.0</td>\n",
       "      <td>7000</td>\n",
       "      <td>Exynos Octa Core</td>\n",
       "      <td>Samsung</td>\n",
       "    </tr>\n",
       "  </tbody>\n",
       "</table>\n",
       "</div>"
      ],
      "text/plain": [
       "              Mobile_name           Colour  Price  Rating  No_of_Ratings  RAM  \\\n",
       "1114  Samsung GALAXY M51   Celestial Black  24790     4.2           99.0  6.0   \n",
       "1120  Samsung GALAXY M51     ELECTRIC BLUE  23308     4.2           99.0  6.0   \n",
       "\n",
       "      ROM  Screen_size(cm)  Rear_Camera  Front_camera  Battery(mAh)  \\\n",
       "1114  128            17.02           64          32.0          7000   \n",
       "1120  128            17.02           64          32.0          7000   \n",
       "\n",
       "              Processor    Brand  \n",
       "1114  Exynos Octa Core   Samsung  \n",
       "1120  Exynos Octa Core   Samsung  "
      ]
     },
     "execution_count": 65,
     "metadata": {},
     "output_type": "execute_result"
    }
   ],
   "source": [
    "dfc[dfc[\"Battery(mAh)\"]==dfc[\"Battery(mAh)\"].max()]"
   ]
  },
  {
   "cell_type": "markdown",
   "metadata": {},
   "source": [
    "- highest battery is by Samsung and Price for the phone with best battery life is higher than mean"
   ]
  },
  {
   "cell_type": "code",
   "execution_count": 66,
   "metadata": {},
   "outputs": [
    {
     "data": {
      "text/html": [
       "<div>\n",
       "<style scoped>\n",
       "    .dataframe tbody tr th:only-of-type {\n",
       "        vertical-align: middle;\n",
       "    }\n",
       "\n",
       "    .dataframe tbody tr th {\n",
       "        vertical-align: top;\n",
       "    }\n",
       "\n",
       "    .dataframe thead th {\n",
       "        text-align: right;\n",
       "    }\n",
       "</style>\n",
       "<table border=\"1\" class=\"dataframe\">\n",
       "  <thead>\n",
       "    <tr style=\"text-align: right;\">\n",
       "      <th></th>\n",
       "      <th>Mobile_name</th>\n",
       "      <th>Colour</th>\n",
       "      <th>Price</th>\n",
       "      <th>Rating</th>\n",
       "      <th>No_of_Ratings</th>\n",
       "      <th>RAM</th>\n",
       "      <th>ROM</th>\n",
       "      <th>Screen_size(cm)</th>\n",
       "      <th>Rear_Camera</th>\n",
       "      <th>Front_camera</th>\n",
       "      <th>Battery(mAh)</th>\n",
       "      <th>Processor</th>\n",
       "      <th>Brand</th>\n",
       "    </tr>\n",
       "  </thead>\n",
       "  <tbody>\n",
       "    <tr>\n",
       "      <th>840</th>\n",
       "      <td>Asus Padfone Mini</td>\n",
       "      <td>White</td>\n",
       "      <td>12999</td>\n",
       "      <td>3.4</td>\n",
       "      <td>51.0</td>\n",
       "      <td>1.0</td>\n",
       "      <td>8</td>\n",
       "      <td>10.16</td>\n",
       "      <td>8</td>\n",
       "      <td>2.0</td>\n",
       "      <td>1200</td>\n",
       "      <td>Intel Atom Z2560</td>\n",
       "      <td>Asus</td>\n",
       "    </tr>\n",
       "    <tr>\n",
       "      <th>904</th>\n",
       "      <td>Asus Padfone Mini</td>\n",
       "      <td>Black</td>\n",
       "      <td>15999</td>\n",
       "      <td>3.4</td>\n",
       "      <td>51.0</td>\n",
       "      <td>1.0</td>\n",
       "      <td>8</td>\n",
       "      <td>10.16</td>\n",
       "      <td>8</td>\n",
       "      <td>2.0</td>\n",
       "      <td>1200</td>\n",
       "      <td>Intel Atom Z2560</td>\n",
       "      <td>Asus</td>\n",
       "    </tr>\n",
       "  </tbody>\n",
       "</table>\n",
       "</div>"
      ],
      "text/plain": [
       "            Mobile_name Colour  Price  Rating  No_of_Ratings  RAM  ROM  \\\n",
       "840  Asus Padfone Mini   White  12999     3.4           51.0  1.0    8   \n",
       "904  Asus Padfone Mini   Black  15999     3.4           51.0  1.0    8   \n",
       "\n",
       "     Screen_size(cm)  Rear_Camera  Front_camera  Battery(mAh)  \\\n",
       "840            10.16            8           2.0          1200   \n",
       "904            10.16            8           2.0          1200   \n",
       "\n",
       "             Processor Brand  \n",
       "840  Intel Atom Z2560   Asus  \n",
       "904  Intel Atom Z2560   Asus  "
      ]
     },
     "execution_count": 66,
     "metadata": {},
     "output_type": "execute_result"
    }
   ],
   "source": [
    "dfc[dfc[\"Battery(mAh)\"]==dfc[\"Battery(mAh)\"].min()]"
   ]
  },
  {
   "cell_type": "markdown",
   "metadata": {},
   "source": [
    "- Asus has phones with lowet battery life and Price is almost near to the mean Price"
   ]
  },
  {
   "cell_type": "code",
   "execution_count": 68,
   "metadata": {},
   "outputs": [
    {
     "data": {
      "text/plain": [
       "Index(['Mobile_name', 'Colour', 'Price', 'Rating', 'No_of_Ratings', 'RAM',\n",
       "       'ROM', 'Screen_size(cm)', 'Rear_Camera', 'Front_camera', 'Battery(mAh)',\n",
       "       'Processor', 'Brand'],\n",
       "      dtype='object')"
      ]
     },
     "execution_count": 68,
     "metadata": {},
     "output_type": "execute_result"
    }
   ],
   "source": [
    "dfc.columns"
   ]
  },
  {
   "cell_type": "markdown",
   "metadata": {},
   "source": [
    "### Ratings"
   ]
  },
  {
   "cell_type": "code",
   "execution_count": 72,
   "metadata": {},
   "outputs": [
    {
     "data": {
      "text/html": [
       "<div>\n",
       "<style scoped>\n",
       "    .dataframe tbody tr th:only-of-type {\n",
       "        vertical-align: middle;\n",
       "    }\n",
       "\n",
       "    .dataframe tbody tr th {\n",
       "        vertical-align: top;\n",
       "    }\n",
       "\n",
       "    .dataframe thead th {\n",
       "        text-align: right;\n",
       "    }\n",
       "</style>\n",
       "<table border=\"1\" class=\"dataframe\">\n",
       "  <thead>\n",
       "    <tr style=\"text-align: right;\">\n",
       "      <th></th>\n",
       "      <th>Mobile_name</th>\n",
       "      <th>Colour</th>\n",
       "      <th>Price</th>\n",
       "      <th>Rating</th>\n",
       "      <th>No_of_Ratings</th>\n",
       "      <th>RAM</th>\n",
       "      <th>ROM</th>\n",
       "      <th>Screen_size(cm)</th>\n",
       "      <th>Rear_Camera</th>\n",
       "      <th>Front_camera</th>\n",
       "      <th>Battery(mAh)</th>\n",
       "      <th>Processor</th>\n",
       "      <th>Brand</th>\n",
       "    </tr>\n",
       "  </thead>\n",
       "  <tbody>\n",
       "    <tr>\n",
       "      <th>1119</th>\n",
       "      <td>Samsung M31s</td>\n",
       "      <td>Mirage Blue</td>\n",
       "      <td>23500</td>\n",
       "      <td>5.0</td>\n",
       "      <td>5.0</td>\n",
       "      <td>8.0</td>\n",
       "      <td>128</td>\n",
       "      <td>16.51</td>\n",
       "      <td>64</td>\n",
       "      <td>32.0</td>\n",
       "      <td>6000</td>\n",
       "      <td>Exynos 9611 octa core processor</td>\n",
       "      <td>Samsung</td>\n",
       "    </tr>\n",
       "    <tr>\n",
       "      <th>1124</th>\n",
       "      <td>Samsung GALAXY M31S</td>\n",
       "      <td>Mirage Black</td>\n",
       "      <td>22999</td>\n",
       "      <td>5.0</td>\n",
       "      <td>6.0</td>\n",
       "      <td>8.0</td>\n",
       "      <td>128</td>\n",
       "      <td>16.51</td>\n",
       "      <td>64</td>\n",
       "      <td>32.0</td>\n",
       "      <td>6000</td>\n",
       "      <td>Exynos Octa Core</td>\n",
       "      <td>Samsung</td>\n",
       "    </tr>\n",
       "  </tbody>\n",
       "</table>\n",
       "</div>"
      ],
      "text/plain": [
       "               Mobile_name        Colour  Price  Rating  No_of_Ratings  RAM  \\\n",
       "1119         Samsung M31s    Mirage Blue  23500     5.0            5.0  8.0   \n",
       "1124  Samsung GALAXY M31S   Mirage Black  22999     5.0            6.0  8.0   \n",
       "\n",
       "      ROM  Screen_size(cm)  Rear_Camera  Front_camera  Battery(mAh)  \\\n",
       "1119  128            16.51           64          32.0          6000   \n",
       "1124  128            16.51           64          32.0          6000   \n",
       "\n",
       "                             Processor    Brand  \n",
       "1119  Exynos 9611 octa core processor   Samsung  \n",
       "1124                 Exynos Octa Core   Samsung  "
      ]
     },
     "execution_count": 72,
     "metadata": {},
     "output_type": "execute_result"
    }
   ],
   "source": [
    "dfc[dfc[\"Rating\"]==dfc[\"Rating\"].max()]"
   ]
  },
  {
   "cell_type": "markdown",
   "metadata": {},
   "source": [
    "- the best rated phones are from Samsung, they have 5 star rating given by avg of 6 users.\n",
    "- we can observe that the phone has almost same specifications but the Price varies based on phone Colour also i.e., Price is impacted by the Colour also."
   ]
  },
  {
   "cell_type": "code",
   "execution_count": 73,
   "metadata": {},
   "outputs": [
    {
     "data": {
      "text/html": [
       "<div>\n",
       "<style scoped>\n",
       "    .dataframe tbody tr th:only-of-type {\n",
       "        vertical-align: middle;\n",
       "    }\n",
       "\n",
       "    .dataframe tbody tr th {\n",
       "        vertical-align: top;\n",
       "    }\n",
       "\n",
       "    .dataframe thead th {\n",
       "        text-align: right;\n",
       "    }\n",
       "</style>\n",
       "<table border=\"1\" class=\"dataframe\">\n",
       "  <thead>\n",
       "    <tr style=\"text-align: right;\">\n",
       "      <th></th>\n",
       "      <th>Mobile_name</th>\n",
       "      <th>Colour</th>\n",
       "      <th>Price</th>\n",
       "      <th>Rating</th>\n",
       "      <th>No_of_Ratings</th>\n",
       "      <th>RAM</th>\n",
       "      <th>ROM</th>\n",
       "      <th>Screen_size(cm)</th>\n",
       "      <th>Rear_Camera</th>\n",
       "      <th>Front_camera</th>\n",
       "      <th>Battery(mAh)</th>\n",
       "      <th>Processor</th>\n",
       "      <th>Brand</th>\n",
       "    </tr>\n",
       "  </thead>\n",
       "  <tbody>\n",
       "    <tr>\n",
       "      <th>840</th>\n",
       "      <td>Asus Padfone Mini</td>\n",
       "      <td>White</td>\n",
       "      <td>12999</td>\n",
       "      <td>3.4</td>\n",
       "      <td>51.0</td>\n",
       "      <td>1.0</td>\n",
       "      <td>8</td>\n",
       "      <td>10.16</td>\n",
       "      <td>8</td>\n",
       "      <td>2.0</td>\n",
       "      <td>1200</td>\n",
       "      <td>Intel Atom Z2560</td>\n",
       "      <td>Asus</td>\n",
       "    </tr>\n",
       "    <tr>\n",
       "      <th>904</th>\n",
       "      <td>Asus Padfone Mini</td>\n",
       "      <td>Black</td>\n",
       "      <td>15999</td>\n",
       "      <td>3.4</td>\n",
       "      <td>51.0</td>\n",
       "      <td>1.0</td>\n",
       "      <td>8</td>\n",
       "      <td>10.16</td>\n",
       "      <td>8</td>\n",
       "      <td>2.0</td>\n",
       "      <td>1200</td>\n",
       "      <td>Intel Atom Z2560</td>\n",
       "      <td>Asus</td>\n",
       "    </tr>\n",
       "  </tbody>\n",
       "</table>\n",
       "</div>"
      ],
      "text/plain": [
       "            Mobile_name Colour  Price  Rating  No_of_Ratings  RAM  ROM  \\\n",
       "840  Asus Padfone Mini   White  12999     3.4           51.0  1.0    8   \n",
       "904  Asus Padfone Mini   Black  15999     3.4           51.0  1.0    8   \n",
       "\n",
       "     Screen_size(cm)  Rear_Camera  Front_camera  Battery(mAh)  \\\n",
       "840            10.16            8           2.0          1200   \n",
       "904            10.16            8           2.0          1200   \n",
       "\n",
       "             Processor Brand  \n",
       "840  Intel Atom Z2560   Asus  \n",
       "904  Intel Atom Z2560   Asus  "
      ]
     },
     "execution_count": 73,
     "metadata": {},
     "output_type": "execute_result"
    }
   ],
   "source": [
    "dfc[dfc[\"Rating\"]==dfc[\"Rating\"].min()]"
   ]
  },
  {
   "cell_type": "markdown",
   "metadata": {},
   "source": [
    "- the least ratings are for Asus phones "
   ]
  },
  {
   "cell_type": "code",
   "execution_count": 97,
   "metadata": {},
   "outputs": [
    {
     "data": {
      "text/plain": [
       "<matplotlib.axes._subplots.AxesSubplot at 0x2109b617b20>"
      ]
     },
     "execution_count": 97,
     "metadata": {},
     "output_type": "execute_result"
    },
    {
     "data": {
      "image/png": "[encoded data removed]",
      "text/plain": [
       "<Figure size 936x432 with 1 Axes>"
      ]
     },
     "metadata": {
      "needs_background": "light"
     },
     "output_type": "display_data"
    }
   ],
   "source": [
    "plt.figure(figsize=(13,6))\n",
    "sns.scatterplot(dfc[\"Rating\"],dfc[\"Price\"],hue=dfc[\"Brand\"])"
   ]
  },
  {
   "cell_type": "markdown",
   "metadata": {},
   "source": [
    "- visually we can observe that Samsung phones have good ratings, for all price ranges.\n",
    "- whereas, Asus and Honor have comparitively lower ratings"
   ]
  },
  {
   "cell_type": "code",
   "execution_count": 98,
   "metadata": {},
   "outputs": [
    {
     "data": {
      "text/plain": [
       "<matplotlib.axes._subplots.AxesSubplot at 0x2109b8bcee0>"
      ]
     },
     "execution_count": 98,
     "metadata": {},
     "output_type": "execute_result"
    },
    {
     "data": {
      "image/png": "[encoded data removed]",
      "text/plain": [
       "<Figure size 936x432 with 1 Axes>"
      ]
     },
     "metadata": {
      "needs_background": "light"
     },
     "output_type": "display_data"
    }
   ],
   "source": [
    "plt.figure(figsize=(13,6))\n",
    "sns.boxplot(dfc[\"Rating\"],dfc[\"Price\"])"
   ]
  },
  {
   "cell_type": "markdown",
   "metadata": {},
   "source": [
    "- expensive phone have slightly better ratings, meaning better customer satisfaction."
   ]
  },
  {
   "cell_type": "markdown",
   "metadata": {},
   "source": [
    "- the phones with resonably high prices have good ratings, so we can infer that "
   ]
  },
  {
   "cell_type": "markdown",
   "metadata": {},
   "source": [
    "### RAM"
   ]
  },
  {
   "cell_type": "code",
   "execution_count": 100,
   "metadata": {},
   "outputs": [
    {
     "data": {
      "text/plain": [
       "4.0     362\n",
       "3.0     266\n",
       "6.0     217\n",
       "2.0     190\n",
       "8.0     147\n",
       "1.0      57\n",
       "12.0     19\n",
       "1.5       2\n",
       "Name: RAM, dtype: int64"
      ]
     },
     "execution_count": 100,
     "metadata": {},
     "output_type": "execute_result"
    }
   ],
   "source": [
    "dfc[\"RAM\"].value_counts()"
   ]
  },
  {
   "cell_type": "code",
   "execution_count": 101,
   "metadata": {},
   "outputs": [
    {
     "data": {
      "text/plain": [
       "<matplotlib.axes._subplots.AxesSubplot at 0x210a0015f10>"
      ]
     },
     "execution_count": 101,
     "metadata": {},
     "output_type": "execute_result"
    },
    {
     "data": {
      "image/png": "[encoded data removed]",
      "text/plain": [
       "<Figure size 432x288 with 1 Axes>"
      ]
     },
     "metadata": {
      "needs_background": "light"
     },
     "output_type": "display_data"
    }
   ],
   "source": [
    "sns.countplot(dfc[\"RAM\"])"
   ]
  },
  {
   "cell_type": "markdown",
   "metadata": {},
   "source": [
    "- ideally most of the phones have 3 or 4 GB RAM \n",
    "- and very few phones with 12 GB RAM are available \n",
    "- there is only one phone with 1.5 GB RAM"
   ]
  },
  {
   "cell_type": "code",
   "execution_count": 67,
   "metadata": {},
   "outputs": [
    {
     "data": {
      "text/plain": [
       "<matplotlib.axes._subplots.AxesSubplot at 0x21096d010a0>"
      ]
     },
     "execution_count": 67,
     "metadata": {},
     "output_type": "execute_result"
    },
    {
     "data": {
      "image/png": "[encoded data removed]",
      "text/plain": [
       "<Figure size 432x288 with 1 Axes>"
      ]
     },
     "metadata": {
      "needs_background": "light"
     },
     "output_type": "display_data"
    }
   ],
   "source": [
    "sns.boxplot(dfc[\"RAM\"],dfc[\"Price\"])"
   ]
  },
  {
   "cell_type": "markdown",
   "metadata": {},
   "source": [
    "- There is a direct positive relationship between Price and  RAM"
   ]
  },
  {
   "cell_type": "markdown",
   "metadata": {},
   "source": [
    "### ROM"
   ]
  },
  {
   "cell_type": "code",
   "execution_count": 108,
   "metadata": {},
   "outputs": [
    {
     "data": {
      "text/plain": [
       "64     390\n",
       "32     310\n",
       "128    287\n",
       "16     143\n",
       "8       67\n",
       "256     56\n",
       "512      7\n",
       "Name: ROM, dtype: int64"
      ]
     },
     "execution_count": 108,
     "metadata": {},
     "output_type": "execute_result"
    }
   ],
   "source": [
    "dfc[\"ROM\"].value_counts()"
   ]
  },
  {
   "cell_type": "code",
   "execution_count": 110,
   "metadata": {},
   "outputs": [
    {
     "data": {
      "text/plain": [
       "<matplotlib.axes._subplots.AxesSubplot at 0x210a2f4fb20>"
      ]
     },
     "execution_count": 110,
     "metadata": {},
     "output_type": "execute_result"
    },
    {
     "data": {
      "image/png": "[encoded data removed]",
      "text/plain": [
       "<Figure size 432x288 with 1 Axes>"
      ]
     },
     "metadata": {
      "needs_background": "light"
     },
     "output_type": "display_data"
    }
   ],
   "source": [
    "sns.countplot(dfc[\"ROM\"])"
   ]
  },
  {
   "cell_type": "code",
   "execution_count": 60,
   "metadata": {},
   "outputs": [
    {
     "data": {
      "text/plain": [
       "<matplotlib.axes._subplots.AxesSubplot at 0x21095a566a0>"
      ]
     },
     "execution_count": 60,
     "metadata": {},
     "output_type": "execute_result"
    },
    {
     "data": {
      "image/png": "[encoded data removed]",
      "text/plain": [
       "<Figure size 432x288 with 1 Axes>"
      ]
     },
     "metadata": {
      "needs_background": "light"
     },
     "output_type": "display_data"
    }
   ],
   "source": [
    "sns.boxplot(dfc[\"ROM\"],dfc[\"Price\"])"
   ]
  },
  {
   "cell_type": "code",
   "execution_count": 117,
   "metadata": {},
   "outputs": [
    {
     "data": {
      "text/plain": [
       "<matplotlib.axes._subplots.AxesSubplot at 0x210a36488b0>"
      ]
     },
     "execution_count": 117,
     "metadata": {},
     "output_type": "execute_result"
    },
    {
     "data": {
      "image/png": "[encoded data removed]",
      "text/plain": [
       "<Figure size 1008x576 with 1 Axes>"
      ]
     },
     "metadata": {
      "needs_background": "light"
     },
     "output_type": "display_data"
    }
   ],
   "source": [
    "plt.figure(figsize=(14,8))\n",
    "sns.boxplot(dfc[\"ROM\"],dfc[\"Price\"],hue=dfc[\"Brand\"])"
   ]
  },
  {
   "cell_type": "markdown",
   "metadata": {},
   "source": [
    "- most of phones in our dataset have 64 GB RAM followed by 32GB and 128 GB.\n",
    "- the phones with the highest storage belongs to Samsung and the Price for those phones are comparitively higher.\n",
    "- \"Asus\" and \"Honor\" have flexibly phones ranging from the lowest storage to highest storage. \n",
    "- median prices are higher for high storage phones and lower for low storage phones."
   ]
  },
  {
   "cell_type": "code",
   "execution_count": 118,
   "metadata": {},
   "outputs": [
    {
     "data": {
      "text/html": [
       "<div>\n",
       "<style scoped>\n",
       "    .dataframe tbody tr th:only-of-type {\n",
       "        vertical-align: middle;\n",
       "    }\n",
       "\n",
       "    .dataframe tbody tr th {\n",
       "        vertical-align: top;\n",
       "    }\n",
       "\n",
       "    .dataframe thead th {\n",
       "        text-align: right;\n",
       "    }\n",
       "</style>\n",
       "<table border=\"1\" class=\"dataframe\">\n",
       "  <thead>\n",
       "    <tr style=\"text-align: right;\">\n",
       "      <th></th>\n",
       "      <th>Mobile_name</th>\n",
       "      <th>Colour</th>\n",
       "      <th>Price</th>\n",
       "      <th>Rating</th>\n",
       "      <th>No_of_Ratings</th>\n",
       "      <th>RAM</th>\n",
       "      <th>ROM</th>\n",
       "      <th>Screen_size(cm)</th>\n",
       "      <th>Rear_Camera</th>\n",
       "      <th>Front_camera</th>\n",
       "      <th>Battery(mAh)</th>\n",
       "      <th>Processor</th>\n",
       "      <th>Brand</th>\n",
       "    </tr>\n",
       "  </thead>\n",
       "  <tbody>\n",
       "    <tr>\n",
       "      <th>753</th>\n",
       "      <td>Asus ROG Phone II</td>\n",
       "      <td>Black</td>\n",
       "      <td>62999</td>\n",
       "      <td>4.7</td>\n",
       "      <td>50.0</td>\n",
       "      <td>12.0</td>\n",
       "      <td>512</td>\n",
       "      <td>16.74</td>\n",
       "      <td>48</td>\n",
       "      <td>24.0</td>\n",
       "      <td>6000</td>\n",
       "      <td>Qualcomm Snapdragon 855 Plus</td>\n",
       "      <td>Asus</td>\n",
       "    </tr>\n",
       "    <tr>\n",
       "      <th>1052</th>\n",
       "      <td>Samsung Galaxy S10 Plus</td>\n",
       "      <td>Ceramic White</td>\n",
       "      <td>117990</td>\n",
       "      <td>4.5</td>\n",
       "      <td>23.0</td>\n",
       "      <td>12.0</td>\n",
       "      <td>512</td>\n",
       "      <td>16.26</td>\n",
       "      <td>16</td>\n",
       "      <td>10.0</td>\n",
       "      <td>4100</td>\n",
       "      <td>Exynos 9 9820</td>\n",
       "      <td>Samsung</td>\n",
       "    </tr>\n",
       "    <tr>\n",
       "      <th>1055</th>\n",
       "      <td>Samsung Galaxy Note 9</td>\n",
       "      <td>Ocean Blue</td>\n",
       "      <td>93000</td>\n",
       "      <td>4.6</td>\n",
       "      <td>228.0</td>\n",
       "      <td>8.0</td>\n",
       "      <td>512</td>\n",
       "      <td>16.26</td>\n",
       "      <td>12</td>\n",
       "      <td>8.0</td>\n",
       "      <td>4000</td>\n",
       "      <td>Exynos Octa Core</td>\n",
       "      <td>Samsung</td>\n",
       "    </tr>\n",
       "    <tr>\n",
       "      <th>1057</th>\n",
       "      <td>Samsung Galaxy Note 9</td>\n",
       "      <td>Midnight Black</td>\n",
       "      <td>84900</td>\n",
       "      <td>4.6</td>\n",
       "      <td>228.0</td>\n",
       "      <td>8.0</td>\n",
       "      <td>512</td>\n",
       "      <td>16.26</td>\n",
       "      <td>12</td>\n",
       "      <td>8.0</td>\n",
       "      <td>4000</td>\n",
       "      <td>Exynos Octa Core</td>\n",
       "      <td>Samsung</td>\n",
       "    </tr>\n",
       "    <tr>\n",
       "      <th>1061</th>\n",
       "      <td>Samsung Galaxy S10 Plus</td>\n",
       "      <td>Ceramic Black</td>\n",
       "      <td>73800</td>\n",
       "      <td>4.6</td>\n",
       "      <td>1197.0</td>\n",
       "      <td>8.0</td>\n",
       "      <td>512</td>\n",
       "      <td>16.26</td>\n",
       "      <td>16</td>\n",
       "      <td>10.0</td>\n",
       "      <td>4100</td>\n",
       "      <td>Exynos 9 9820</td>\n",
       "      <td>Samsung</td>\n",
       "    </tr>\n",
       "    <tr>\n",
       "      <th>1083</th>\n",
       "      <td>Samsung Galaxy S10</td>\n",
       "      <td>Prism White</td>\n",
       "      <td>50000</td>\n",
       "      <td>4.6</td>\n",
       "      <td>1754.0</td>\n",
       "      <td>8.0</td>\n",
       "      <td>512</td>\n",
       "      <td>15.49</td>\n",
       "      <td>16</td>\n",
       "      <td>10.0</td>\n",
       "      <td>3400</td>\n",
       "      <td>Exynos 9 9820</td>\n",
       "      <td>Samsung</td>\n",
       "    </tr>\n",
       "    <tr>\n",
       "      <th>1086</th>\n",
       "      <td>Samsung Galaxy S10 Lite</td>\n",
       "      <td>Prism Black</td>\n",
       "      <td>45999</td>\n",
       "      <td>4.5</td>\n",
       "      <td>11975.0</td>\n",
       "      <td>8.0</td>\n",
       "      <td>512</td>\n",
       "      <td>17.02</td>\n",
       "      <td>48</td>\n",
       "      <td>32.0</td>\n",
       "      <td>4500</td>\n",
       "      <td>Qualcomm Snapdragon 855 (SM8150)</td>\n",
       "      <td>Samsung</td>\n",
       "    </tr>\n",
       "  </tbody>\n",
       "</table>\n",
       "</div>"
      ],
      "text/plain": [
       "                   Mobile_name          Colour   Price  Rating  No_of_Ratings  \\\n",
       "753         Asus ROG Phone II            Black   62999     4.7           50.0   \n",
       "1052  Samsung Galaxy S10 Plus    Ceramic White  117990     4.5           23.0   \n",
       "1055    Samsung Galaxy Note 9       Ocean Blue   93000     4.6          228.0   \n",
       "1057    Samsung Galaxy Note 9   Midnight Black   84900     4.6          228.0   \n",
       "1061  Samsung Galaxy S10 Plus    Ceramic Black   73800     4.6         1197.0   \n",
       "1083       Samsung Galaxy S10      Prism White   50000     4.6         1754.0   \n",
       "1086  Samsung Galaxy S10 Lite      Prism Black   45999     4.5        11975.0   \n",
       "\n",
       "       RAM  ROM  Screen_size(cm)  Rear_Camera  Front_camera  Battery(mAh)  \\\n",
       "753   12.0  512            16.74           48          24.0          6000   \n",
       "1052  12.0  512            16.26           16          10.0          4100   \n",
       "1055   8.0  512            16.26           12           8.0          4000   \n",
       "1057   8.0  512            16.26           12           8.0          4000   \n",
       "1061   8.0  512            16.26           16          10.0          4100   \n",
       "1083   8.0  512            15.49           16          10.0          3400   \n",
       "1086   8.0  512            17.02           48          32.0          4500   \n",
       "\n",
       "                              Processor    Brand  \n",
       "753       Qualcomm Snapdragon 855 Plus      Asus  \n",
       "1052                     Exynos 9 9820   Samsung  \n",
       "1055                  Exynos Octa Core   Samsung  \n",
       "1057                  Exynos Octa Core   Samsung  \n",
       "1061                     Exynos 9 9820   Samsung  \n",
       "1083                     Exynos 9 9820   Samsung  \n",
       "1086  Qualcomm Snapdragon 855 (SM8150)   Samsung  "
      ]
     },
     "execution_count": 118,
     "metadata": {},
     "output_type": "execute_result"
    }
   ],
   "source": [
    "dfc[dfc[\"ROM\"]==512]"
   ]
  },
  {
   "cell_type": "markdown",
   "metadata": {},
   "source": [
    "- only ASUS AND Samsung have the phone with 512 GB storage.\n",
    "- we can see the change in prices based on colour, so colour also plays a very important role for Price"
   ]
  },
  {
   "cell_type": "markdown",
   "metadata": {},
   "source": [
    "### Screen_size"
   ]
  },
  {
   "cell_type": "code",
   "execution_count": 120,
   "metadata": {},
   "outputs": [
    {
     "data": {
      "text/plain": [
       "15.77"
      ]
     },
     "execution_count": 120,
     "metadata": {},
     "output_type": "execute_result"
    }
   ],
   "source": [
    "dfc[\"Screen_size(cm)\"].median()"
   ]
  },
  {
   "cell_type": "markdown",
   "metadata": {},
   "source": [
    "- ideally the screensize for the phones is 15.77 cm"
   ]
  },
  {
   "cell_type": "code",
   "execution_count": 123,
   "metadata": {},
   "outputs": [
    {
     "data": {
      "text/plain": [
       "<matplotlib.axes._subplots.AxesSubplot at 0x210a1b4cb20>"
      ]
     },
     "execution_count": 123,
     "metadata": {},
     "output_type": "execute_result"
    },
    {
     "data": {
      "image/png": "[encoded data removed]",
      "text/plain": [
       "<Figure size 936x432 with 1 Axes>"
      ]
     },
     "metadata": {
      "needs_background": "light"
     },
     "output_type": "display_data"
    }
   ],
   "source": [
    "plt.figure(figsize=(13,6))\n",
    "sns.distplot(dfc[\"Screen_size(cm)\"])"
   ]
  },
  {
   "cell_type": "code",
   "execution_count": 126,
   "metadata": {},
   "outputs": [
    {
     "data": {
      "image/png": "[encoded data removed]",
      "text/plain": [
       "<Figure size 936x432 with 1 Axes>"
      ]
     },
     "metadata": {
      "needs_background": "light"
     },
     "output_type": "display_data"
    }
   ],
   "source": [
    "plt.figure(figsize=(13,6))\n",
    "sns.countplot(dfc[\"Screen_size(cm)\"])\n",
    "plt.xticks(rotation=45);"
   ]
  },
  {
   "cell_type": "markdown",
   "metadata": {},
   "source": [
    "- most of the phones have screen size of 13.97, while very few phone have large screen "
   ]
  },
  {
   "cell_type": "code",
   "execution_count": 127,
   "metadata": {},
   "outputs": [
    {
     "data": {
      "image/png": "[encoded data removed]",
      "text/plain": [
       "<Figure size 936x432 with 1 Axes>"
      ]
     },
     "metadata": {
      "needs_background": "light"
     },
     "output_type": "display_data"
    }
   ],
   "source": [
    "plt.figure(figsize=(13,6))\n",
    "sns.barplot(dfc[\"Screen_size(cm)\"],dfc[\"Price\"])\n",
    "plt.xticks(rotation=45);"
   ]
  },
  {
   "cell_type": "markdown",
   "metadata": {},
   "source": [
    "- the most expensive phone has screen size of 17.53 cm\n",
    "- the cheap phone usually have screen size within 10-15 cm approximately\n",
    "- the phone with huge screen has screen size of 41.94cm, which is a potential outlier and can be sampling mistake\n",
    "- so for large scrren we need not send more money"
   ]
  },
  {
   "cell_type": "code",
   "execution_count": 130,
   "metadata": {},
   "outputs": [
    {
     "data": {
      "text/html": [
       "<div>\n",
       "<style scoped>\n",
       "    .dataframe tbody tr th:only-of-type {\n",
       "        vertical-align: middle;\n",
       "    }\n",
       "\n",
       "    .dataframe tbody tr th {\n",
       "        vertical-align: top;\n",
       "    }\n",
       "\n",
       "    .dataframe thead th {\n",
       "        text-align: right;\n",
       "    }\n",
       "</style>\n",
       "<table border=\"1\" class=\"dataframe\">\n",
       "  <thead>\n",
       "    <tr style=\"text-align: right;\">\n",
       "      <th></th>\n",
       "      <th>Mobile_name</th>\n",
       "      <th>Colour</th>\n",
       "      <th>Price</th>\n",
       "      <th>Rating</th>\n",
       "      <th>No_of_Ratings</th>\n",
       "      <th>RAM</th>\n",
       "      <th>ROM</th>\n",
       "      <th>Screen_size(cm)</th>\n",
       "      <th>Rear_Camera</th>\n",
       "      <th>Front_camera</th>\n",
       "      <th>Battery(mAh)</th>\n",
       "      <th>Processor</th>\n",
       "      <th>Brand</th>\n",
       "    </tr>\n",
       "  </thead>\n",
       "  <tbody>\n",
       "    <tr>\n",
       "      <th>995</th>\n",
       "      <td>Honor 8X</td>\n",
       "      <td>Black</td>\n",
       "      <td>19999</td>\n",
       "      <td>4.4</td>\n",
       "      <td>7744.0</td>\n",
       "      <td>6.0</td>\n",
       "      <td>64</td>\n",
       "      <td>41.94</td>\n",
       "      <td>20</td>\n",
       "      <td>16.0</td>\n",
       "      <td>3750</td>\n",
       "      <td>2.2 GHz Kirin 710 Octa Core</td>\n",
       "      <td>Honor</td>\n",
       "    </tr>\n",
       "  </tbody>\n",
       "</table>\n",
       "</div>"
      ],
      "text/plain": [
       "    Mobile_name Colour  Price  Rating  No_of_Ratings  RAM  ROM  \\\n",
       "995   Honor 8X   Black  19999     4.4         7744.0  6.0   64   \n",
       "\n",
       "     Screen_size(cm)  Rear_Camera  Front_camera  Battery(mAh)  \\\n",
       "995            41.94           20          16.0          3750   \n",
       "\n",
       "                        Processor  Brand  \n",
       "995  2.2 GHz Kirin 710 Octa Core   Honor  "
      ]
     },
     "execution_count": 130,
     "metadata": {},
     "output_type": "execute_result"
    }
   ],
   "source": [
    "dfc[dfc[\"Screen_size(cm)\"]==dfc[\"Screen_size(cm)\"].max()]"
   ]
  },
  {
   "cell_type": "code",
   "execution_count": 131,
   "metadata": {},
   "outputs": [
    {
     "data": {
      "image/png": "[encoded data removed]",
      "text/plain": [
       "<Figure size 936x432 with 1 Axes>"
      ]
     },
     "metadata": {
      "needs_background": "light"
     },
     "output_type": "display_data"
    }
   ],
   "source": [
    "plt.figure(figsize=(13,6))\n",
    "sns.scatterplot(dfc[\"Screen_size(cm)\"],dfc[\"Price\"])\n",
    "plt.xticks(rotation=45);"
   ]
  },
  {
   "cell_type": "markdown",
   "metadata": {},
   "source": [
    "### Rear Camera"
   ]
  },
  {
   "cell_type": "code",
   "execution_count": 132,
   "metadata": {},
   "outputs": [
    {
     "data": {
      "text/plain": [
       "13     480\n",
       "48     211\n",
       "12     198\n",
       "64     128\n",
       "16      99\n",
       "8       72\n",
       "5       23\n",
       "20      19\n",
       "108      9\n",
       "24       9\n",
       "25       5\n",
       "23       5\n",
       "32       2\n",
       "Name: Rear_Camera, dtype: int64"
      ]
     },
     "execution_count": 132,
     "metadata": {},
     "output_type": "execute_result"
    }
   ],
   "source": [
    "dfc[\"Rear_Camera\"].value_counts()"
   ]
  },
  {
   "cell_type": "code",
   "execution_count": 133,
   "metadata": {},
   "outputs": [
    {
     "data": {
      "text/plain": [
       "<matplotlib.axes._subplots.AxesSubplot at 0x210a015fbe0>"
      ]
     },
     "execution_count": 133,
     "metadata": {},
     "output_type": "execute_result"
    },
    {
     "data": {
      "image/png": "[encoded data removed]",
      "text/plain": [
       "<Figure size 432x288 with 1 Axes>"
      ]
     },
     "metadata": {
      "needs_background": "light"
     },
     "output_type": "display_data"
    }
   ],
   "source": [
    "sns.countplot(dfc[\"Rear_Camera\"])"
   ]
  },
  {
   "cell_type": "markdown",
   "metadata": {},
   "source": [
    "- most of the phones in our dataset have 13 MP followed by 12 MP and 48 MP \n"
   ]
  },
  {
   "cell_type": "code",
   "execution_count": 135,
   "metadata": {},
   "outputs": [
    {
     "data": {
      "text/plain": [
       "<matplotlib.axes._subplots.AxesSubplot at 0x210a53997f0>"
      ]
     },
     "execution_count": 135,
     "metadata": {},
     "output_type": "execute_result"
    },
    {
     "data": {
      "image/png": "[encoded data removed]",
      "text/plain": [
       "<Figure size 936x432 with 1 Axes>"
      ]
     },
     "metadata": {
      "needs_background": "light"
     },
     "output_type": "display_data"
    }
   ],
   "source": [
    "plt.figure(figsize=(13,6))\n",
    "sns.boxplot(dfc[\"Rear_Camera\"],dfc[\"Price\"])"
   ]
  },
  {
   "cell_type": "code",
   "execution_count": null,
   "metadata": {},
   "outputs": [],
   "source": [
    "- there is no particular relationship between Price and Rear_"
   ]
  },
  {
   "cell_type": "code",
   "execution_count": null,
   "metadata": {},
   "outputs": [],
   "source": []
  }
 ],
 "metadata": {
  "kernelspec": {
   "display_name": "Python 3",
   "language": "python",
   "name": "python3"
  },
  "language_info": {
   "codemirror_mode": {
    "name": "ipython",
    "version": 3
   },
   "file_extension": ".py",
   "mimetype": "text/x-python",
   "name": "python",
   "nbconvert_exporter": "python",
   "pygments_lexer": "ipython3",
   "version": "3.8.3"
  }
 },
 "nbformat": 4,
 "nbformat_minor": 4
}
